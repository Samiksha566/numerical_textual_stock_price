{
  "nbformat": 4,
  "nbformat_minor": 0,
  "metadata": {
    "colab": {
      "name": "Numerical_and_textual_analysis_stock_prices.ipynb",
      "provenance": [],
      "collapsed_sections": [],
      "authorship_tag": "ABX9TyPnNl5wvMn9TrdeRSA7T3o9",
      "include_colab_link": true
    },
    "kernelspec": {
      "name": "python3",
      "display_name": "Python 3"
    }
  },
  "cells": [
    {
      "cell_type": "markdown",
      "metadata": {
        "id": "view-in-github",
        "colab_type": "text"
      },
      "source": [
        "<a href=\"https://colab.research.google.com/github/nit611/The-Sparks-Foundation/blob/da_real_nit/Numerical_and_textual_analysis_stock_prices.ipynb\" target=\"_parent\"><img src=\"https://colab.research.google.com/assets/colab-badge.svg\" alt=\"Open In Colab\"/></a>"
      ]
    },
    {
      "cell_type": "markdown",
      "metadata": {
        "id": "h27g_eShwWlL"
      },
      "source": [
        "# **STOCK MARKET PREDICTION USING NUMERICAL AND TEXTUAL ANALYSIS** \n",
        "\n",
        "\n",
        "# Author: **Nithin Gopalakrishnan**"
      ]
    },
    {
      "cell_type": "markdown",
      "metadata": {
        "id": "4EuCfhylrLrm"
      },
      "source": [
        "**Importing the library to upload documents from a local source.** "
      ]
    },
    {
      "cell_type": "code",
      "metadata": {
        "id": "-PT75ElyOv2_",
        "outputId": "62a7d3bb-3091-4140-dc68-ab32b02554c4",
        "colab": {
          "resources": {
            "http://localhost:8080/nbextensions/google.colab/files.js": {
              "data": "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",
              "ok": true,
              "headers": [
                [
                  "content-type",
                  "application/javascript"
                ]
              ],
              "status": 200,
              "status_text": ""
            }
          },
          "base_uri": "https://localhost:8080/",
          "height": 73
        }
      },
      "source": [
        "from google.colab import files\n",
        "up = files.upload()"
      ],
      "execution_count": null,
      "outputs": [
        {
          "output_type": "display_data",
          "data": {
            "text/html": [
              "\n",
              "     <input type=\"file\" id=\"files-c56f3849-4859-4f68-a092-bd9a8eae53f5\" name=\"files[]\" multiple disabled\n",
              "        style=\"border:none\" />\n",
              "     <output id=\"result-c56f3849-4859-4f68-a092-bd9a8eae53f5\">\n",
              "      Upload widget is only available when the cell has been executed in the\n",
              "      current browser session. Please rerun this cell to enable.\n",
              "      </output>\n",
              "      <script src=\"/nbextensions/google.colab/files.js\"></script> "
            ],
            "text/plain": [
              "<IPython.core.display.HTML object>"
            ]
          },
          "metadata": {
            "tags": []
          }
        },
        {
          "output_type": "stream",
          "text": [
            "Saving RELIANCE.BO.csv to RELIANCE.BO (1).csv\n"
          ],
          "name": "stdout"
        }
      ]
    },
    {
      "cell_type": "markdown",
      "metadata": {
        "id": "eEEb0Xr8rY2s"
      },
      "source": [
        "I have taken Reliance Stock Prices, as Reliance is one of the biggest stocks traded in India by volume, and also, in the current political climate, one of the most relevant. "
      ]
    },
    {
      "cell_type": "code",
      "metadata": {
        "id": "_gB5y1llO_1V",
        "outputId": "f93320e6-b9b6-43d9-c752-3082de88b711",
        "colab": {
          "base_uri": "https://localhost:8080/"
        }
      },
      "source": [
        "import pandas as pd\n",
        "import numpy as np\n",
        "import matplotlib.pyplot as plt\n",
        "import re\n",
        "from statsmodels.tsa.stattools import adfuller, acf, pacf\n",
        "from statsmodels.graphics.tsaplots import plot_acf, plot_pacf\n",
        "from statsmodels.tsa.arima_model import ARIMA, ARIMAResults\n",
        "from pandas.plotting import autocorrelation_plot\n",
        "import nltk\n",
        "from nltk.corpus import stopwords"
      ],
      "execution_count": 1,
      "outputs": [
        {
          "output_type": "stream",
          "text": [
            "/usr/local/lib/python3.6/dist-packages/statsmodels/tools/_testing.py:19: FutureWarning: pandas.util.testing is deprecated. Use the functions in the public API at pandas.testing instead.\n",
            "  import pandas.util.testing as tm\n"
          ],
          "name": "stderr"
        }
      ]
    },
    {
      "cell_type": "markdown",
      "metadata": {
        "id": "7XiuNnRXrnm6"
      },
      "source": [
        "*Above I import all the necessary libraries to conduct the analysis*"
      ]
    },
    {
      "cell_type": "code",
      "metadata": {
        "id": "zNqNvF2jPjkx"
      },
      "source": [
        "df = pd.read_csv('RELIANCE.BO.csv')"
      ],
      "execution_count": null,
      "outputs": []
    },
    {
      "cell_type": "code",
      "metadata": {
        "id": "WuIVcbbHPnRx",
        "outputId": "cc2884c0-3b19-40d9-ba72-82b6e35bc357",
        "colab": {
          "base_uri": "https://localhost:8080/",
          "height": 195
        }
      },
      "source": [
        "df.head()"
      ],
      "execution_count": null,
      "outputs": [
        {
          "output_type": "execute_result",
          "data": {
            "text/html": [
              "<div>\n",
              "<style scoped>\n",
              "    .dataframe tbody tr th:only-of-type {\n",
              "        vertical-align: middle;\n",
              "    }\n",
              "\n",
              "    .dataframe tbody tr th {\n",
              "        vertical-align: top;\n",
              "    }\n",
              "\n",
              "    .dataframe thead th {\n",
              "        text-align: right;\n",
              "    }\n",
              "</style>\n",
              "<table border=\"1\" class=\"dataframe\">\n",
              "  <thead>\n",
              "    <tr style=\"text-align: right;\">\n",
              "      <th></th>\n",
              "      <th>Date</th>\n",
              "      <th>Open</th>\n",
              "      <th>High</th>\n",
              "      <th>Low</th>\n",
              "      <th>Close</th>\n",
              "      <th>Adj Close</th>\n",
              "      <th>Volume</th>\n",
              "    </tr>\n",
              "  </thead>\n",
              "  <tbody>\n",
              "    <tr>\n",
              "      <th>0</th>\n",
              "      <td>2015-11-16</td>\n",
              "      <td>464.500000</td>\n",
              "      <td>470.899994</td>\n",
              "      <td>462.350006</td>\n",
              "      <td>466.524994</td>\n",
              "      <td>446.749115</td>\n",
              "      <td>794162.0</td>\n",
              "    </tr>\n",
              "    <tr>\n",
              "      <th>1</th>\n",
              "      <td>2015-11-17</td>\n",
              "      <td>468.350006</td>\n",
              "      <td>469.350006</td>\n",
              "      <td>462.975006</td>\n",
              "      <td>463.750000</td>\n",
              "      <td>444.091736</td>\n",
              "      <td>342994.0</td>\n",
              "    </tr>\n",
              "    <tr>\n",
              "      <th>2</th>\n",
              "      <td>2015-11-18</td>\n",
              "      <td>463.500000</td>\n",
              "      <td>465.825012</td>\n",
              "      <td>455.000000</td>\n",
              "      <td>456.174988</td>\n",
              "      <td>436.837860</td>\n",
              "      <td>459920.0</td>\n",
              "    </tr>\n",
              "    <tr>\n",
              "      <th>3</th>\n",
              "      <td>2015-11-19</td>\n",
              "      <td>459.750000</td>\n",
              "      <td>468.750000</td>\n",
              "      <td>459.000000</td>\n",
              "      <td>467.100006</td>\n",
              "      <td>447.299744</td>\n",
              "      <td>451980.0</td>\n",
              "    </tr>\n",
              "    <tr>\n",
              "      <th>4</th>\n",
              "      <td>2015-11-20</td>\n",
              "      <td>467.700012</td>\n",
              "      <td>476.049988</td>\n",
              "      <td>462.700012</td>\n",
              "      <td>472.975006</td>\n",
              "      <td>452.925720</td>\n",
              "      <td>607934.0</td>\n",
              "    </tr>\n",
              "  </tbody>\n",
              "</table>\n",
              "</div>"
            ],
            "text/plain": [
              "         Date        Open        High  ...       Close   Adj Close    Volume\n",
              "0  2015-11-16  464.500000  470.899994  ...  466.524994  446.749115  794162.0\n",
              "1  2015-11-17  468.350006  469.350006  ...  463.750000  444.091736  342994.0\n",
              "2  2015-11-18  463.500000  465.825012  ...  456.174988  436.837860  459920.0\n",
              "3  2015-11-19  459.750000  468.750000  ...  467.100006  447.299744  451980.0\n",
              "4  2015-11-20  467.700012  476.049988  ...  472.975006  452.925720  607934.0\n",
              "\n",
              "[5 rows x 7 columns]"
            ]
          },
          "metadata": {
            "tags": []
          },
          "execution_count": 4
        }
      ]
    },
    {
      "cell_type": "markdown",
      "metadata": {
        "id": "Chh0zTmErxhS"
      },
      "source": [
        "Making a copy to the dataset is always a good practice to do, since it gives us the freedom of reverting back to the original data, whenever needed."
      ]
    },
    {
      "cell_type": "code",
      "metadata": {
        "id": "Qc-hrgnBPoT4"
      },
      "source": [
        "rel = df.copy()"
      ],
      "execution_count": null,
      "outputs": []
    },
    {
      "cell_type": "code",
      "metadata": {
        "id": "L6OZ7avVPq2a"
      },
      "source": [
        "rel.drop(['Open','High','Low','Adj Close','Volume'], 1, inplace = True)"
      ],
      "execution_count": null,
      "outputs": []
    },
    {
      "cell_type": "code",
      "metadata": {
        "id": "EKKDYYPHPyNI"
      },
      "source": [
        "rel['Date'] = pd.to_datetime(rel['Date'])"
      ],
      "execution_count": null,
      "outputs": []
    },
    {
      "cell_type": "markdown",
      "metadata": {
        "id": "4CCUli8fsAbY"
      },
      "source": [
        "**Let the cleaning begin!** \\\n",
        "I deleted all the unnecessary columns, and kept just the date and the closing prices columns."
      ]
    },
    {
      "cell_type": "code",
      "metadata": {
        "id": "JOoj7lQfP3vb",
        "outputId": "f1997b95-8fe1-4c3c-9d67-582e45874cac",
        "colab": {
          "base_uri": "https://localhost:8080/"
        }
      },
      "source": [
        "print(rel.head())\n",
        "print(rel.info())"
      ],
      "execution_count": null,
      "outputs": [
        {
          "output_type": "stream",
          "text": [
            "        Date       Close\n",
            "0 2015-11-16  466.524994\n",
            "1 2015-11-17  463.750000\n",
            "2 2015-11-18  456.174988\n",
            "3 2015-11-19  467.100006\n",
            "4 2015-11-20  472.975006\n",
            "<class 'pandas.core.frame.DataFrame'>\n",
            "RangeIndex: 1234 entries, 0 to 1233\n",
            "Data columns (total 2 columns):\n",
            " #   Column  Non-Null Count  Dtype         \n",
            "---  ------  --------------  -----         \n",
            " 0   Date    1234 non-null   datetime64[ns]\n",
            " 1   Close   1233 non-null   float64       \n",
            "dtypes: datetime64[ns](1), float64(1)\n",
            "memory usage: 19.4 KB\n",
            "None\n"
          ],
          "name": "stdout"
        }
      ]
    },
    {
      "cell_type": "code",
      "metadata": {
        "id": "2UTtK5PnP6na"
      },
      "source": [
        "# For analysis purposes, lets convert closing prices to log closing prices\n",
        "rel['Close'] = np.log(rel['Close'])"
      ],
      "execution_count": null,
      "outputs": []
    },
    {
      "cell_type": "code",
      "metadata": {
        "id": "YvRB3NUcQG42",
        "outputId": "2f06196b-5095-4186-b3f3-f58dd6162ac9",
        "colab": {
          "base_uri": "https://localhost:8080/",
          "height": 195
        }
      },
      "source": [
        "rel.head()"
      ],
      "execution_count": null,
      "outputs": [
        {
          "output_type": "execute_result",
          "data": {
            "text/html": [
              "<div>\n",
              "<style scoped>\n",
              "    .dataframe tbody tr th:only-of-type {\n",
              "        vertical-align: middle;\n",
              "    }\n",
              "\n",
              "    .dataframe tbody tr th {\n",
              "        vertical-align: top;\n",
              "    }\n",
              "\n",
              "    .dataframe thead th {\n",
              "        text-align: right;\n",
              "    }\n",
              "</style>\n",
              "<table border=\"1\" class=\"dataframe\">\n",
              "  <thead>\n",
              "    <tr style=\"text-align: right;\">\n",
              "      <th></th>\n",
              "      <th>Date</th>\n",
              "      <th>Close</th>\n",
              "    </tr>\n",
              "  </thead>\n",
              "  <tbody>\n",
              "    <tr>\n",
              "      <th>0</th>\n",
              "      <td>2015-11-16</td>\n",
              "      <td>6.145312</td>\n",
              "    </tr>\n",
              "    <tr>\n",
              "      <th>1</th>\n",
              "      <td>2015-11-17</td>\n",
              "      <td>6.139346</td>\n",
              "    </tr>\n",
              "    <tr>\n",
              "      <th>2</th>\n",
              "      <td>2015-11-18</td>\n",
              "      <td>6.122876</td>\n",
              "    </tr>\n",
              "    <tr>\n",
              "      <th>3</th>\n",
              "      <td>2015-11-19</td>\n",
              "      <td>6.146543</td>\n",
              "    </tr>\n",
              "    <tr>\n",
              "      <th>4</th>\n",
              "      <td>2015-11-20</td>\n",
              "      <td>6.159043</td>\n",
              "    </tr>\n",
              "  </tbody>\n",
              "</table>\n",
              "</div>"
            ],
            "text/plain": [
              "        Date     Close\n",
              "0 2015-11-16  6.145312\n",
              "1 2015-11-17  6.139346\n",
              "2 2015-11-18  6.122876\n",
              "3 2015-11-19  6.146543\n",
              "4 2015-11-20  6.159043"
            ]
          },
          "metadata": {
            "tags": []
          },
          "execution_count": 10
        }
      ]
    },
    {
      "cell_type": "markdown",
      "metadata": {
        "id": "6beGoBbKsbca"
      },
      "source": [
        "Now for some visualization. Most stock prices contain a trend. And since stock prices are not \"predictable\" in the short term sense, they are what is called as a \"random-walk process\" in Time Series Analysis. Random walk processes mean that there is no stationarity. And this means that the stock prices have varying mean values at different points in time. "
      ]
    },
    {
      "cell_type": "code",
      "metadata": {
        "id": "EJPZrdasQH10",
        "outputId": "3c5157ed-b520-4a29-f8d8-7302c25e03b7",
        "colab": {
          "base_uri": "https://localhost:8080/",
          "height": 457
        }
      },
      "source": [
        "rel.dropna(inplace = True)\n",
        "plt.style.use('seaborn')\n",
        "plt.figure(figsize=(10,7))\n",
        "rel['Close'].plot(color='g')\n",
        "plt.title('Reliance (Log) Prices - Time Series')\n",
        "plt.ylabel('Log Closing Prices')\n",
        "plt.xlabel('Time')\n",
        "plt.show()"
      ],
      "execution_count": null,
      "outputs": [
        {
          "output_type": "display_data",
          "data": {
            "image/png": "[encoded data removed]",
            "text/plain": [
              "<Figure size 720x504 with 1 Axes>"
            ]
          },
          "metadata": {
            "tags": []
          }
        }
      ]
    },
    {
      "cell_type": "code",
      "metadata": {
        "id": "mBN8PJPoQR9g"
      },
      "source": [
        "# Add column to find returns of Reliance\n",
        "rel['Returns'] = rel['Close'].diff()"
      ],
      "execution_count": null,
      "outputs": []
    },
    {
      "cell_type": "code",
      "metadata": {
        "id": "EZ-Vxow_QzAT",
        "outputId": "41912473-979a-4907-a218-09d8e67ede37",
        "colab": {
          "base_uri": "https://localhost:8080/",
          "height": 195
        }
      },
      "source": [
        "rel.head()"
      ],
      "execution_count": null,
      "outputs": [
        {
          "output_type": "execute_result",
          "data": {
            "text/html": [
              "<div>\n",
              "<style scoped>\n",
              "    .dataframe tbody tr th:only-of-type {\n",
              "        vertical-align: middle;\n",
              "    }\n",
              "\n",
              "    .dataframe tbody tr th {\n",
              "        vertical-align: top;\n",
              "    }\n",
              "\n",
              "    .dataframe thead th {\n",
              "        text-align: right;\n",
              "    }\n",
              "</style>\n",
              "<table border=\"1\" class=\"dataframe\">\n",
              "  <thead>\n",
              "    <tr style=\"text-align: right;\">\n",
              "      <th></th>\n",
              "      <th>Date</th>\n",
              "      <th>Close</th>\n",
              "      <th>Returns</th>\n",
              "    </tr>\n",
              "  </thead>\n",
              "  <tbody>\n",
              "    <tr>\n",
              "      <th>0</th>\n",
              "      <td>2015-11-16</td>\n",
              "      <td>6.145312</td>\n",
              "      <td>NaN</td>\n",
              "    </tr>\n",
              "    <tr>\n",
              "      <th>1</th>\n",
              "      <td>2015-11-17</td>\n",
              "      <td>6.139346</td>\n",
              "      <td>-0.005966</td>\n",
              "    </tr>\n",
              "    <tr>\n",
              "      <th>2</th>\n",
              "      <td>2015-11-18</td>\n",
              "      <td>6.122876</td>\n",
              "      <td>-0.016469</td>\n",
              "    </tr>\n",
              "    <tr>\n",
              "      <th>3</th>\n",
              "      <td>2015-11-19</td>\n",
              "      <td>6.146543</td>\n",
              "      <td>0.023667</td>\n",
              "    </tr>\n",
              "    <tr>\n",
              "      <th>4</th>\n",
              "      <td>2015-11-20</td>\n",
              "      <td>6.159043</td>\n",
              "      <td>0.012499</td>\n",
              "    </tr>\n",
              "  </tbody>\n",
              "</table>\n",
              "</div>"
            ],
            "text/plain": [
              "        Date     Close   Returns\n",
              "0 2015-11-16  6.145312       NaN\n",
              "1 2015-11-17  6.139346 -0.005966\n",
              "2 2015-11-18  6.122876 -0.016469\n",
              "3 2015-11-19  6.146543  0.023667\n",
              "4 2015-11-20  6.159043  0.012499"
            ]
          },
          "metadata": {
            "tags": []
          },
          "execution_count": 13
        }
      ]
    },
    {
      "cell_type": "code",
      "metadata": {
        "id": "sxMHKTpXQ0Bu"
      },
      "source": [
        "rel.dropna(inplace = True)"
      ],
      "execution_count": null,
      "outputs": []
    },
    {
      "cell_type": "markdown",
      "metadata": {
        "id": "8yrY33qTs147"
      },
      "source": [
        "The graph below is a classic example of how returns of a stock can be volatile when the times are turbulent. 2020 has seen one of the world's worst external shock - the coronavirus pandemic. The stock prices in an emerging country like India, already see high risk-high reward. The graph below shows the turbulence."
      ]
    },
    {
      "cell_type": "code",
      "metadata": {
        "id": "bpGztEGeQ38g",
        "outputId": "40ffc5e4-9690-423d-a582-fe0e580e49ca",
        "colab": {
          "base_uri": "https://localhost:8080/",
          "height": 457
        }
      },
      "source": [
        "plt.style.use('seaborn')\n",
        "plt.figure(figsize=(10,7))\n",
        "rel['Returns'].plot(color='g')\n",
        "plt.title('Reliance Returns - Time Series')\n",
        "plt.ylabel('Returns')\n",
        "plt.xlabel('Time')\n",
        "plt.show()"
      ],
      "execution_count": null,
      "outputs": [
        {
          "output_type": "display_data",
          "data": {
            "image/png": "[encoded data removed]",
            "text/plain": [
              "<Figure size 720x504 with 1 Axes>"
            ]
          },
          "metadata": {
            "tags": []
          }
        }
      ]
    },
    {
      "cell_type": "code",
      "metadata": {
        "id": "y495zJ4aQ_ZM",
        "outputId": "f6fcd285-d82f-4228-e07b-2ad89bed91fd",
        "colab": {
          "base_uri": "https://localhost:8080/",
          "height": 1000
        }
      },
      "source": [
        "# The series is obviously not stationary (the returns, as well as the log closing prices). Let us check the ACF and PACF for the log prices\n",
        "plot_acf(rel['Close'])\n",
        "plot_pacf(rel['Close'])"
      ],
      "execution_count": null,
      "outputs": [
        {
          "output_type": "execute_result",
          "data": {
            "image/png": "[encoded data removed]",
            "text/plain": [
              "<Figure size 576x396 with 1 Axes>"
            ]
          },
          "metadata": {
            "tags": []
          },
          "execution_count": 16
        },
        {
          "output_type": "display_data",
          "data": {
            "image/png": "[encoded data removed]",
            "text/plain": [
              "<Figure size 576x396 with 1 Axes>"
            ]
          },
          "metadata": {
            "tags": []
          }
        },
        {
          "output_type": "display_data",
          "data": {
            "image/png": "[encoded data removed]",
            "text/plain": [
              "<Figure size 576x396 with 1 Axes>"
            ]
          },
          "metadata": {
            "tags": []
          }
        }
      ]
    },
    {
      "cell_type": "markdown",
      "metadata": {
        "id": "gXdJ2E5TtKtj"
      },
      "source": [
        "One of the direct measures of stationarity is the Autocorrelation and the Partial Autocorrelation function. If the autocorrelation graph exhibits a slowly \"decaying\" function, while the Partial ACF exhibits one large spike (after the first spike), it typically is an AR(1) process, and non-stationary."
      ]
    },
    {
      "cell_type": "code",
      "metadata": {
        "id": "QG_rb9MHRP46"
      },
      "source": [
        "# Slowly decaying Autocorrelation function indicates non-stationarity/ two spiked Partial ACF indicates that the function has an\n",
        "# Autoregressive parameter (AR) 1. So, the function is an AR(1) process.\n",
        "# Notice how in the previous graph, the returns function exhibited a sort of an increasing variance. We may need to model it as an ARCH-GARCH function too."
      ],
      "execution_count": 43,
      "outputs": []
    },
    {
      "cell_type": "markdown",
      "metadata": {
        "id": "Txfa80YWtjcQ"
      },
      "source": [
        "Below is the formal Augmented Dickey-Fuller Stationarity test to determine the stationarity of the log closing prices of Reliance stock."
      ]
    },
    {
      "cell_type": "code",
      "metadata": {
        "id": "pCvUAEXmRtR-"
      },
      "source": [
        "# Stationarity test - The Augmented Dickey Fuller test\n",
        "def stationarity_test(series):\n",
        "  \n",
        "  print('The Results for Stationarity of the Series')\n",
        "  result = adfuller(series)\n",
        "  labels = ['The ADF Statistic', 'p-Value', 'Number of lags used', 'Number of observations']\n",
        "  for value, key in zip(result, labels):\n",
        "    print(key + ' : ' + str(value))\n",
        "  if result[1] <= 0.05:\n",
        "    print('The ADF test shows that we can reject the null hypothesis that the series contains a unit root, and that the series is Stationary.')\n",
        "  else:\n",
        "    print('The ADF test shows that we cannot reject the null hypothesis that the series contains a unit root, and that the series is non-stationary.')"
      ],
      "execution_count": null,
      "outputs": []
    },
    {
      "cell_type": "code",
      "metadata": {
        "id": "2gmw0Se9TQZW",
        "outputId": "57b6c6ac-3c41-459d-9bbf-b90eaa6e9ee6",
        "colab": {
          "base_uri": "https://localhost:8080/"
        }
      },
      "source": [
        "stationarity_test(rel['Close'])"
      ],
      "execution_count": null,
      "outputs": [
        {
          "output_type": "stream",
          "text": [
            "The Results for Stationarity of the Series\n",
            "The ADF Statistic : -0.5480194797234336\n",
            "p-Value : 0.8823003416994148\n",
            "Number of lags used : 7\n",
            "Number of observations : 1224\n",
            "The ADF test shows that we cannot reject the null hypothesis that the series contains a unit root, and that the series is non-stationary.\n"
          ],
          "name": "stdout"
        }
      ]
    },
    {
      "cell_type": "code",
      "metadata": {
        "id": "fFMRqES6TUYX",
        "outputId": "0f76ef3c-b48c-4d65-f8bf-3c3a65da061b",
        "colab": {
          "base_uri": "https://localhost:8080/"
        }
      },
      "source": [
        "stationarity_test(rel['Returns'])"
      ],
      "execution_count": null,
      "outputs": [
        {
          "output_type": "stream",
          "text": [
            "The Results for Stationarity of the Series\n",
            "The ADF Statistic : -12.92935510853685\n",
            "p-Value : 3.72891403949426e-24\n",
            "Number of lags used : 6\n",
            "Number of observations : 1225\n",
            "The ADF test shows that we can reject the null hypothesis that the series contains a unit root, and that the series is Stationary.\n"
          ],
          "name": "stdout"
        }
      ]
    },
    {
      "cell_type": "code",
      "metadata": {
        "id": "hq8jezvbTiQF"
      },
      "source": [
        "# The Closing prices is integrated of order 1. "
      ],
      "execution_count": null,
      "outputs": []
    },
    {
      "cell_type": "code",
      "metadata": {
        "id": "f8ygu75cULM7"
      },
      "source": [
        "plot_acf(rel['Returns'])\n",
        "plot_pacf(rel['Returns'])"
      ],
      "execution_count": null,
      "outputs": []
    },
    {
      "cell_type": "code",
      "metadata": {
        "id": "9U2y7EBoV5WB"
      },
      "source": [
        "import pmdarima"
      ],
      "execution_count": null,
      "outputs": []
    },
    {
      "cell_type": "code",
      "metadata": {
        "id": "X9UuK0NtWQk-"
      },
      "source": [
        "from pmdarima import auto_arima"
      ],
      "execution_count": null,
      "outputs": []
    },
    {
      "cell_type": "markdown",
      "metadata": {
        "id": "9vUapdZktwoH"
      },
      "source": [
        "The beneficial aspect of the Auto ARIMA package in python is that, it picks the order of ARIMA by itself, along with the estimation. \\\n",
        "The ARIMA model for a univariate time series consists of three components - the AR component, the I component and the MA component. The AR or Autoregressive component indicates how far behind is the stock prices dependent on itself? The I component asks how many times does a series need to be differentiated to get stationary? and the MA component checks the dependence of the series on past residuals."
      ]
    },
    {
      "cell_type": "code",
      "metadata": {
        "id": "crQ7SCbKXcEX",
        "outputId": "c46b1fce-5ebb-4ee7-e34d-8bd2db72d1db",
        "colab": {
          "base_uri": "https://localhost:8080/"
        }
      },
      "source": [
        "len(rel['Close'])"
      ],
      "execution_count": null,
      "outputs": [
        {
          "output_type": "execute_result",
          "data": {
            "text/plain": [
              "1232"
            ]
          },
          "metadata": {
            "tags": []
          },
          "execution_count": 28
        }
      ]
    },
    {
      "cell_type": "code",
      "metadata": {
        "id": "-2hEGXDmXfId"
      },
      "source": [
        "train = rel['Close'][:900]\n",
        "test = rel['Close'][900:]"
      ],
      "execution_count": null,
      "outputs": []
    },
    {
      "cell_type": "code",
      "metadata": {
        "id": "jzuekdwBWhHi",
        "outputId": "249c1ce1-5b66-451c-85bd-fce7ed2a0ddc",
        "colab": {
          "base_uri": "https://localhost:8080/"
        }
      },
      "source": [
        "model = auto_arima(train, trace = True, error_action = 'ignore', suppress_warnings = True)\n",
        "model.fit(train)\n",
        "predictions = model.predict(n_periods = len(test))\n",
        "predictions = pd.DataFrame(predictions,index = test.index,columns=['Prediction'])"
      ],
      "execution_count": null,
      "outputs": [
        {
          "output_type": "stream",
          "text": [
            "Performing stepwise search to minimize aic\n",
            " ARIMA(2,1,2)(0,0,0)[0] intercept   : AIC=-4969.392, Time=0.24 sec\n",
            " ARIMA(0,1,0)(0,0,0)[0] intercept   : AIC=-4967.594, Time=0.15 sec\n",
            " ARIMA(1,1,0)(0,0,0)[0] intercept   : AIC=-4969.992, Time=0.19 sec\n",
            " ARIMA(0,1,1)(0,0,0)[0] intercept   : AIC=-4969.622, Time=0.33 sec\n",
            " ARIMA(0,1,0)(0,0,0)[0]             : AIC=-4964.659, Time=0.09 sec\n",
            " ARIMA(2,1,0)(0,0,0)[0] intercept   : AIC=-4969.613, Time=0.50 sec\n",
            " ARIMA(1,1,1)(0,0,0)[0] intercept   : AIC=-4968.448, Time=0.21 sec\n",
            " ARIMA(2,1,1)(0,0,0)[0] intercept   : AIC=-4967.610, Time=0.45 sec\n",
            " ARIMA(1,1,0)(0,0,0)[0]             : AIC=-4967.734, Time=0.10 sec\n",
            "\n",
            "Best model:  ARIMA(1,1,0)(0,0,0)[0] intercept\n",
            "Total fit time: 2.272 seconds\n"
          ],
          "name": "stdout"
        }
      ]
    },
    {
      "cell_type": "markdown",
      "metadata": {
        "id": "R8rWq2RFuaIf"
      },
      "source": [
        "It seems than an ARIMA (1,1,0) model is optimal."
      ]
    },
    {
      "cell_type": "code",
      "metadata": {
        "id": "GI37ucziXElv",
        "outputId": "09a2a349-6f6f-488a-f7b0-0e35a41346c4",
        "colab": {
          "base_uri": "https://localhost:8080/",
          "height": 457
        }
      },
      "source": [
        "plt.style.use('seaborn')\n",
        "plt.figure(figsize=(10,7))\n",
        "plt.plot(train, label='Train')\n",
        "plt.plot(test, label='Test')\n",
        "plt.plot(predictions, label='Prediction')\n",
        "plt.title('Reliance Stock Price Prediction')\n",
        "plt.xlabel('Time')\n",
        "plt.ylabel('Actual Stock Price')\n",
        "plt.show()"
      ],
      "execution_count": null,
      "outputs": [
        {
          "output_type": "display_data",
          "data": {
            "image/png": "[encoded data removed]",
            "text/plain": [
              "<Figure size 720x504 with 1 Axes>"
            ]
          },
          "metadata": {
            "tags": []
          }
        }
      ]
    },
    {
      "cell_type": "markdown",
      "metadata": {
        "id": "Eg7Wyj2nufRY"
      },
      "source": [
        "The red line in the above graph shows a \"mean value\" for the sample that is green (the out of sample testing set)."
      ]
    },
    {
      "cell_type": "code",
      "metadata": {
        "id": "iQbGJ1NtXJ2B",
        "outputId": "ee7625fa-feeb-4579-ef9a-3bb026e1a994",
        "colab": {
          "base_uri": "https://localhost:8080/"
        }
      },
      "source": [
        "from sklearn.metrics import mean_squared_error\n",
        "rms = np.sqrt(mean_squared_error(test , predictions))\n",
        "print(\"RMSE : \", rms)"
      ],
      "execution_count": null,
      "outputs": [
        {
          "output_type": "stream",
          "text": [
            "RMSE :  0.15399477241794934\n"
          ],
          "name": "stdout"
        }
      ]
    },
    {
      "cell_type": "markdown",
      "metadata": {
        "id": "0rb_MgaluoOg"
      },
      "source": [
        "The insignificance of the ARIMA component in the summary output below indicates that there might be a problem with the modelling. Even if the Auto ARIMA model picked up the optimal order, there is one component missing. Check below to find out what."
      ]
    },
    {
      "cell_type": "code",
      "metadata": {
        "id": "jF7e4sVjYTz-",
        "outputId": "1bc3606d-2b08-4504-c086-aec97138ddec",
        "colab": {
          "base_uri": "https://localhost:8080/",
          "height": 1000
        }
      },
      "source": [
        "mod = ARIMA(rel['Close'],(1,1,0))\n",
        "mod_fit = mod.fit(display = 0)\n",
        "print(mod_fit.summary())\n",
        "residual = pd.DataFrame(mod_fit.resid)\n",
        "residual.plot()\n",
        "plt.show()\n",
        "residual.plot(kind = 'kde')\n",
        "plt.show()\n",
        "print(residual.describe())"
      ],
      "execution_count": null,
      "outputs": [
        {
          "output_type": "stream",
          "text": [
            "/usr/local/lib/python3.6/dist-packages/statsmodels/tsa/base/tsa_model.py:214: ValueWarning: An unsupported index was provided and will be ignored when e.g. forecasting.\n",
            "  ' ignored when e.g. forecasting.', ValueWarning)\n",
            "/usr/local/lib/python3.6/dist-packages/statsmodels/tsa/base/tsa_model.py:214: ValueWarning: An unsupported index was provided and will be ignored when e.g. forecasting.\n",
            "  ' ignored when e.g. forecasting.', ValueWarning)\n"
          ],
          "name": "stderr"
        },
        {
          "output_type": "stream",
          "text": [
            "                             ARIMA Model Results                              \n",
            "==============================================================================\n",
            "Dep. Variable:                D.Close   No. Observations:                 1231\n",
            "Model:                 ARIMA(1, 1, 0)   Log Likelihood                3126.448\n",
            "Method:                       css-mle   S.D. of innovations              0.019\n",
            "Date:                Mon, 16 Nov 2020   AIC                          -6246.897\n",
            "Time:                        14:10:42   BIC                          -6231.550\n",
            "Sample:                             1   HQIC                         -6241.123\n",
            "                                                                              \n",
            "=================================================================================\n",
            "                    coef    std err          z      P>|z|      [0.025      0.975]\n",
            "---------------------------------------------------------------------------------\n",
            "const             0.0012      0.001      2.220      0.026       0.000       0.002\n",
            "ar.L1.D.Close    -0.0184      0.028     -0.646      0.518      -0.074       0.037\n",
            "                                    Roots                                    \n",
            "=============================================================================\n",
            "                  Real          Imaginary           Modulus         Frequency\n",
            "-----------------------------------------------------------------------------\n",
            "AR.1          -54.3338           +0.0000j           54.3338            0.5000\n",
            "-----------------------------------------------------------------------------\n"
          ],
          "name": "stdout"
        },
        {
          "output_type": "display_data",
          "data": {
            "image/png": "[encoded data removed]",
            "text/plain": [
              "<Figure size 576x396 with 1 Axes>"
            ]
          },
          "metadata": {
            "tags": []
          }
        },
        {
          "output_type": "display_data",
          "data": {
            "image/png": "[encoded data removed]",
            "text/plain": [
              "<Figure size 576x396 with 1 Axes>"
            ]
          },
          "metadata": {
            "tags": []
          }
        },
        {
          "output_type": "stream",
          "text": [
            "                  0\n",
            "count  1.231000e+03\n",
            "mean  -2.621461e-07\n",
            "std    1.909564e-02\n",
            "min   -1.427135e-01\n",
            "25%   -9.866428e-03\n",
            "50%   -3.250709e-04\n",
            "75%    9.713134e-03\n",
            "max    1.366873e-01\n"
          ],
          "name": "stdout"
        }
      ]
    },
    {
      "cell_type": "markdown",
      "metadata": {
        "id": "5v6SBmNsu3Ik"
      },
      "source": [
        "The residual plot (the first graph) shows increasing volatility. There is presence of volatility clustering, and there is a need to model using Autoregressive Conditional Heteroskedasticity, or ARCH. \\\n",
        "ARCH allows us to model non-constant variance of the residual, while capturing the ARIMA component of the time series."
      ]
    },
    {
      "cell_type": "code",
      "metadata": {
        "id": "1bgDOe_6ZMRn",
        "outputId": "f0b75d0a-2285-4e90-e4fe-699a8299d27d",
        "colab": {
          "resources": {
            "http://localhost:8080/nbextensions/google.colab/files.js": {
              "data": "Ly8gQ29weXJpZ2h0IDIwMTcgR29vZ2xlIExMQwovLwovLyBMaWNlbnNlZCB1bmRlciB0aGUgQXBhY2hlIExpY2Vuc2UsIFZlcnNpb24gMi4wICh0aGUgIkxpY2Vuc2UiKTsKLy8geW91IG1heSBub3QgdXNlIHRoaXMgZmlsZSBleGNlcHQgaW4gY29tcGxpYW5jZSB3aXRoIHRoZSBMaWNlbnNlLgovLyBZb3UgbWF5IG9idGFpbiBhIGNvcHkgb2YgdGhlIExpY2Vuc2UgYXQKLy8KLy8gICAgICBodHRwOi8vd3d3LmFwYWNoZS5vcmcvbGljZW5zZXMvTElDRU5TRS0yLjAKLy8KLy8gVW5sZXNzIHJlcXVpcmVkIGJ5IGFwcGxpY2FibGUgbGF3IG9yIGFncmVlZCB0byBpbiB3cml0aW5nLCBzb2Z0d2FyZQovLyBkaXN0cmlidXRlZCB1bmRlciB0aGUgTGljZW5zZSBpcyBkaXN0cmlidXRlZCBvbiBhbiAiQVMgSVMiIEJBU0lTLAovLyBXSVRIT1VUIFdBUlJBTlRJRVMgT1IgQ09ORElUSU9OUyBPRiBBTlkgS0lORCwgZWl0aGVyIGV4cHJlc3Mgb3IgaW1wbGllZC4KLy8gU2VlIHRoZSBMaWNlbnNlIGZvciB0aGUgc3BlY2lmaWMgbGFuZ3VhZ2UgZ292ZXJuaW5nIHBlcm1pc3Npb25zIGFuZAovLyBsaW1pdGF0aW9ucyB1bmRlciB0aGUgTGljZW5zZS4KCi8qKgogKiBAZmlsZW92ZXJ2aWV3IEhlbHBlcnMgZm9yIGdvb2dsZS5jb2xhYiBQeXRob24gbW9kdWxlLgogKi8KKGZ1bmN0aW9uKHNjb3BlKSB7CmZ1bmN0aW9uIHNwYW4odGV4dCwgc3R5bGVBdHRyaWJ1dGVzID0ge30pIHsKICBjb25zdCBlbGVtZW50ID0gZG9jdW1lbnQuY3JlYXRlRWxlbWVudCgnc3BhbicpOwogIGVsZW1lbnQudGV4dENvbnRlbnQgPSB0ZXh0OwogIGZvciAoY29uc3Qga2V5IG9mIE9iamVjdC5rZXlzKHN0eWxlQXR0cmlidXRlcykpIHsKICAgIGVsZW1lbnQuc3R5bGVba2V5XSA9IHN0eWxlQXR0cmlidXRlc1trZXldOwogIH0KICByZXR1cm4gZWxlbWVudDsKfQoKLy8gTWF4IG51bWJlciBvZiBieXRlcyB3aGljaCB3aWxsIGJlIHVwbG9hZGVkIGF0IGEgdGltZS4KY29uc3QgTUFYX1BBWUxPQURfU0laRSA9IDEwMCAqIDEwMjQ7CgpmdW5jdGlvbiBfdXBsb2FkRmlsZXMoaW5wdXRJZCwgb3V0cHV0SWQpIHsKICBjb25zdCBzdGVwcyA9IHVwbG9hZEZpbGVzU3RlcChpbnB1dElkLCBvdXRwdXRJZCk7CiAgY29uc3Qgb3V0cHV0RWxlbWVudCA9IGRvY3VtZW50LmdldEVsZW1lbnRCeUlkKG91dHB1dElkKTsKICAvLyBDYWNoZSBzdGVwcyBvbiB0aGUgb3V0cHV0RWxlbWVudCB0byBtYWtlIGl0IGF2YWlsYWJsZSBmb3IgdGhlIG5leHQgY2FsbAogIC8vIHRvIHVwbG9hZEZpbGVzQ29udGludWUgZnJvbSBQeXRob24uCiAgb3V0cHV0RWxlbWVudC5zdGVwcyA9IHN0ZXBzOwoKICByZXR1cm4gX3VwbG9hZEZpbGVzQ29udGludWUob3V0cHV0SWQpOwp9CgovLyBUaGlzIGlzIHJvdWdobHkgYW4gYXN5bmMgZ2VuZXJhdG9yIChub3Qgc3VwcG9ydGVkIGluIHRoZSBicm93c2VyIHlldCksCi8vIHdoZXJlIHRoZXJlIGFyZSBtdWx0aXBsZSBhc3luY2hyb25vdXMgc3RlcHMgYW5kIHRoZSBQeXRob24gc2lkZSBpcyBnb2luZwovLyB0byBwb2xsIGZvciBjb21wbGV0aW9uIG9mIGVhY2ggc3RlcC4KLy8gVGhpcyB1c2VzIGEgUHJvbWlzZSB0byBibG9jayB0aGUgcHl0aG9uIHNpZGUgb24gY29tcGxldGlvbiBvZiBlYWNoIHN0ZXAsCi8vIHRoZW4gcGFzc2VzIHRoZSByZXN1bHQgb2YgdGhlIHByZXZpb3VzIHN0ZXAgYXMgdGhlIGlucHV0IHRvIHRoZSBuZXh0IHN0ZXAuCmZ1bmN0aW9uIF91cGxvYWRGaWxlc0NvbnRpbnVlKG91dHB1dElkKSB7CiAgY29uc3Qgb3V0cHV0RWxlbWVudCA9IGRvY3VtZW50LmdldEVsZW1lbnRCeUlkKG91dHB1dElkKTsKICBjb25zdCBzdGVwcyA9IG91dHB1dEVsZW1lbnQuc3RlcHM7CgogIGNvbnN0IG5leHQgPSBzdGVwcy5uZXh0KG91dHB1dEVsZW1lbnQubGFzdFByb21pc2VWYWx1ZSk7CiAgcmV0dXJuIFByb21pc2UucmVzb2x2ZShuZXh0LnZhbHVlLnByb21pc2UpLnRoZW4oKHZhbHVlKSA9PiB7CiAgICAvLyBDYWNoZSB0aGUgbGFzdCBwcm9taXNlIHZhbHVlIHRvIG1ha2UgaXQgYXZhaWxhYmxlIHRvIHRoZSBuZXh0CiAgICAvLyBzdGVwIG9mIHRoZSBnZW5lcmF0b3IuCiAgICBvdXRwdXRFbGVtZW50Lmxhc3RQcm9taXNlVmFsdWUgPSB2YWx1ZTsKICAgIHJldHVybiBuZXh0LnZhbHVlLnJlc3BvbnNlOwogIH0pOwp9CgovKioKICogR2VuZXJhdG9yIGZ1bmN0aW9uIHdoaWNoIGlzIGNhbGxlZCBiZXR3ZWVuIGVhY2ggYXN5bmMgc3RlcCBvZiB0aGUgdXBsb2FkCiAqIHByb2Nlc3MuCiAqIEBwYXJhbSB7c3RyaW5nfSBpbnB1dElkIEVsZW1lbnQgSUQgb2YgdGhlIGlucHV0IGZpbGUgcGlja2VyIGVsZW1lbnQuCiAqIEBwYXJhbSB7c3RyaW5nfSBvdXRwdXRJZCBFbGVtZW50IElEIG9mIHRoZSBvdXRwdXQgZGlzcGxheS4KICogQHJldHVybiB7IUl0ZXJhYmxlPCFPYmplY3Q+fSBJdGVyYWJsZSBvZiBuZXh0IHN0ZXBzLgogKi8KZnVuY3Rpb24qIHVwbG9hZEZpbGVzU3RlcChpbnB1dElkLCBvdXRwdXRJZCkgewogIGNvbnN0IGlucHV0RWxlbWVudCA9IGRvY3VtZW50LmdldEVsZW1lbnRCeUlkKGlucHV0SWQpOwogIGlucHV0RWxlbWVudC5kaXNhYmxlZCA9IGZhbHNlOwoKICBjb25zdCBvdXRwdXRFbGVtZW50ID0gZG9jdW1lbnQuZ2V0RWxlbWVudEJ5SWQob3V0cHV0SWQpOwogIG91dHB1dEVsZW1lbnQuaW5uZXJIVE1MID0gJyc7CgogIGNvbnN0IHBpY2tlZFByb21pc2UgPSBuZXcgUHJvbWlzZSgocmVzb2x2ZSkgPT4gewogICAgaW5wdXRFbGVtZW50LmFkZEV2ZW50TGlzdGVuZXIoJ2NoYW5nZScsIChlKSA9PiB7CiAgICAgIHJlc29sdmUoZS50YXJnZXQuZmlsZXMpOwogICAgfSk7CiAgfSk7CgogIGNvbnN0IGNhbmNlbCA9IGRvY3VtZW50LmNyZWF0ZUVsZW1lbnQoJ2J1dHRvbicpOwogIGlucHV0RWxlbWVudC5wYXJlbnRFbGVtZW50LmFwcGVuZENoaWxkKGNhbmNlbCk7CiAgY2FuY2VsLnRleHRDb250ZW50ID0gJ0NhbmNlbCB1cGxvYWQnOwogIGNvbnN0IGNhbmNlbFByb21pc2UgPSBuZXcgUHJvbWlzZSgocmVzb2x2ZSkgPT4gewogICAgY2FuY2VsLm9uY2xpY2sgPSAoKSA9PiB7CiAgICAgIHJlc29sdmUobnVsbCk7CiAgICB9OwogIH0pOwoKICAvLyBXYWl0IGZvciB0aGUgdXNlciB0byBwaWNrIHRoZSBmaWxlcy4KICBjb25zdCBmaWxlcyA9IHlpZWxkIHsKICAgIHByb21pc2U6IFByb21pc2UucmFjZShbcGlja2VkUHJvbWlzZSwgY2FuY2VsUHJvbWlzZV0pLAogICAgcmVzcG9uc2U6IHsKICAgICAgYWN0aW9uOiAnc3RhcnRpbmcnLAogICAgfQogIH07CgogIGNhbmNlbC5yZW1vdmUoKTsKCiAgLy8gRGlzYWJsZSB0aGUgaW5wdXQgZWxlbWVudCBzaW5jZSBmdXJ0aGVyIHBpY2tzIGFyZSBub3QgYWxsb3dlZC4KICBpbnB1dEVsZW1lbnQuZGlzYWJsZWQgPSB0cnVlOwoKICBpZiAoIWZpbGVzKSB7CiAgICByZXR1cm4gewogICAgICByZXNwb25zZTogewogICAgICAgIGFjdGlvbjogJ2NvbXBsZXRlJywKICAgICAgfQogICAgfTsKICB9CgogIGZvciAoY29uc3QgZmlsZSBvZiBmaWxlcykgewogICAgY29uc3QgbGkgPSBkb2N1bWVudC5jcmVhdGVFbGVtZW50KCdsaScpOwogICAgbGkuYXBwZW5kKHNwYW4oZmlsZS5uYW1lLCB7Zm9udFdlaWdodDogJ2JvbGQnfSkpOwogICAgbGkuYXBwZW5kKHNwYW4oCiAgICAgICAgYCgke2ZpbGUudHlwZSB8fCAnbi9hJ30pIC0gJHtmaWxlLnNpemV9IGJ5dGVzLCBgICsKICAgICAgICBgbGFzdCBtb2RpZmllZDogJHsKICAgICAgICAgICAgZmlsZS5sYXN0TW9kaWZpZWREYXRlID8gZmlsZS5sYXN0TW9kaWZpZWREYXRlLnRvTG9jYWxlRGF0ZVN0cmluZygpIDoKICAgICAgICAgICAgICAgICAgICAgICAgICAgICAgICAgICAgJ24vYSd9IC0gYCkpOwogICAgY29uc3QgcGVyY2VudCA9IHNwYW4oJzAlIGRvbmUnKTsKICAgIGxpLmFwcGVuZENoaWxkKHBlcmNlbnQpOwoKICAgIG91dHB1dEVsZW1lbnQuYXBwZW5kQ2hpbGQobGkpOwoKICAgIGNvbnN0IGZpbGVEYXRhUHJvbWlzZSA9IG5ldyBQcm9taXNlKChyZXNvbHZlKSA9PiB7CiAgICAgIGNvbnN0IHJlYWRlciA9IG5ldyBGaWxlUmVhZGVyKCk7CiAgICAgIHJlYWRlci5vbmxvYWQgPSAoZSkgPT4gewogICAgICAgIHJlc29sdmUoZS50YXJnZXQucmVzdWx0KTsKICAgICAgfTsKICAgICAgcmVhZGVyLnJlYWRBc0FycmF5QnVmZmVyKGZpbGUpOwogICAgfSk7CiAgICAvLyBXYWl0IGZvciB0aGUgZGF0YSB0byBiZSByZWFkeS4KICAgIGxldCBmaWxlRGF0YSA9IHlpZWxkIHsKICAgICAgcHJvbWlzZTogZmlsZURhdGFQcm9taXNlLAogICAgICByZXNwb25zZTogewogICAgICAgIGFjdGlvbjogJ2NvbnRpbnVlJywKICAgICAgfQogICAgfTsKCiAgICAvLyBVc2UgYSBjaHVua2VkIHNlbmRpbmcgdG8gYXZvaWQgbWVzc2FnZSBzaXplIGxpbWl0cy4gU2VlIGIvNjIxMTU2NjAuCiAgICBsZXQgcG9zaXRpb24gPSAwOwogICAgd2hpbGUgKHBvc2l0aW9uIDwgZmlsZURhdGEuYnl0ZUxlbmd0aCkgewogICAgICBjb25zdCBsZW5ndGggPSBNYXRoLm1pbihmaWxlRGF0YS5ieXRlTGVuZ3RoIC0gcG9zaXRpb24sIE1BWF9QQVlMT0FEX1NJWkUpOwogICAgICBjb25zdCBjaHVuayA9IG5ldyBVaW50OEFycmF5KGZpbGVEYXRhLCBwb3NpdGlvbiwgbGVuZ3RoKTsKICAgICAgcG9zaXRpb24gKz0gbGVuZ3RoOwoKICAgICAgY29uc3QgYmFzZTY0ID0gYnRvYShTdHJpbmcuZnJvbUNoYXJDb2RlLmFwcGx5KG51bGwsIGNodW5rKSk7CiAgICAgIHlpZWxkIHsKICAgICAgICByZXNwb25zZTogewogICAgICAgICAgYWN0aW9uOiAnYXBwZW5kJywKICAgICAgICAgIGZpbGU6IGZpbGUubmFtZSwKICAgICAgICAgIGRhdGE6IGJhc2U2NCwKICAgICAgICB9LAogICAgICB9OwogICAgICBwZXJjZW50LnRleHRDb250ZW50ID0KICAgICAgICAgIGAke01hdGgucm91bmQoKHBvc2l0aW9uIC8gZmlsZURhdGEuYnl0ZUxlbmd0aCkgKiAxMDApfSUgZG9uZWA7CiAgICB9CiAgfQoKICAvLyBBbGwgZG9uZS4KICB5aWVsZCB7CiAgICByZXNwb25zZTogewogICAgICBhY3Rpb246ICdjb21wbGV0ZScsCiAgICB9CiAgfTsKfQoKc2NvcGUuZ29vZ2xlID0gc2NvcGUuZ29vZ2xlIHx8IHt9OwpzY29wZS5nb29nbGUuY29sYWIgPSBzY29wZS5nb29nbGUuY29sYWIgfHwge307CnNjb3BlLmdvb2dsZS5jb2xhYi5fZmlsZXMgPSB7CiAgX3VwbG9hZEZpbGVzLAogIF91cGxvYWRGaWxlc0NvbnRpbnVlLAp9Owp9KShzZWxmKTsK",
              "ok": true,
              "headers": [
                [
                  "content-type",
                  "application/javascript"
                ]
              ],
              "status": 200,
              "status_text": ""
            }
          },
          "base_uri": "https://localhost:8080/",
          "height": 73
        }
      },
      "source": [
        "news = files.upload()"
      ],
      "execution_count": null,
      "outputs": [
        {
          "output_type": "display_data",
          "data": {
            "text/html": [
              "\n",
              "     <input type=\"file\" id=\"files-0be40963-787c-45f5-ae09-e63ce4cbbd03\" name=\"files[]\" multiple disabled\n",
              "        style=\"border:none\" />\n",
              "     <output id=\"result-0be40963-787c-45f5-ae09-e63ce4cbbd03\">\n",
              "      Upload widget is only available when the cell has been executed in the\n",
              "      current browser session. Please rerun this cell to enable.\n",
              "      </output>\n",
              "      <script src=\"/nbextensions/google.colab/files.js\"></script> "
            ],
            "text/plain": [
              "<IPython.core.display.HTML object>"
            ]
          },
          "metadata": {
            "tags": []
          }
        },
        {
          "output_type": "stream",
          "text": [
            "Saving india-news-headlines.csv to india-news-headlines (1).csv\n"
          ],
          "name": "stdout"
        }
      ]
    },
    {
      "cell_type": "markdown",
      "metadata": {
        "id": "0zvywZOvvPIY"
      },
      "source": [
        "Now, for the Textual Analysis"
      ]
    },
    {
      "cell_type": "code",
      "metadata": {
        "id": "flmEa9qSiNzt",
        "outputId": "b64cee77-c788-48fa-e9d6-2e2e59ed02d3",
        "colab": {
          "base_uri": "https://localhost:8080/"
        }
      },
      "source": [
        "nltk.download('stopwords')\n",
        "nltk.download('vader_lexicon')\n",
        "from textblob import TextBlob\n",
        "from nltk.sentiment.vader import SentimentIntensityAnalyzer\n",
        "from nltk.stem.porter import PorterStemmer\n",
        "from sklearn.model_selection import train_test_split\n",
        "from sklearn.ensemble import RandomForestRegressor, AdaBoostRegressor\n",
        "import xgboost\n",
        "import lightgbm"
      ],
      "execution_count": 2,
      "outputs": [
        {
          "output_type": "stream",
          "text": [
            "[nltk_data] Downloading package stopwords to /root/nltk_data...\n",
            "[nltk_data]   Unzipping corpora/stopwords.zip.\n",
            "[nltk_data] Downloading package vader_lexicon to /root/nltk_data...\n"
          ],
          "name": "stdout"
        },
        {
          "output_type": "stream",
          "text": [
            "/usr/local/lib/python3.6/dist-packages/nltk/twitter/__init__.py:20: UserWarning: The twython library has not been installed. Some functionality from the twitter package will not be available.\n",
            "  warnings.warn(\"The twython library has not been installed. \"\n"
          ],
          "name": "stderr"
        }
      ]
    },
    {
      "cell_type": "code",
      "metadata": {
        "id": "waIdMggX5Ac4"
      },
      "source": [
        "ps = PorterStemmer()"
      ],
      "execution_count": 3,
      "outputs": []
    },
    {
      "cell_type": "markdown",
      "metadata": {
        "id": "0XL451ervX4x"
      },
      "source": [
        "**Data Cleaning**"
      ]
    },
    {
      "cell_type": "code",
      "metadata": {
        "id": "haRS8niP5evy",
        "outputId": "959c24d7-56a6-4b85-9ef7-d4a795f66bcf",
        "colab": {
          "base_uri": "https://localhost:8080/"
        }
      },
      "source": [
        "df_news = pd.read_csv('india-news-headlines.csv', names = cols)"
      ],
      "execution_count": null,
      "outputs": [
        {
          "output_type": "stream",
          "text": [
            "/usr/local/lib/python3.6/dist-packages/IPython/core/interactiveshell.py:2718: DtypeWarning: Columns (0) have mixed types.Specify dtype option on import or set low_memory=False.\n",
            "  interactivity=interactivity, compiler=compiler, result=result)\n"
          ],
          "name": "stderr"
        }
      ]
    },
    {
      "cell_type": "code",
      "metadata": {
        "id": "J03KH8Zq604u",
        "outputId": "b2d94f64-078d-4a80-cd9b-acb01224bfed",
        "colab": {
          "base_uri": "https://localhost:8080/",
          "height": 195
        }
      },
      "source": [
        "df_news.head()"
      ],
      "execution_count": null,
      "outputs": [
        {
          "output_type": "execute_result",
          "data": {
            "text/html": [
              "<div>\n",
              "<style scoped>\n",
              "    .dataframe tbody tr th:only-of-type {\n",
              "        vertical-align: middle;\n",
              "    }\n",
              "\n",
              "    .dataframe tbody tr th {\n",
              "        vertical-align: top;\n",
              "    }\n",
              "\n",
              "    .dataframe thead th {\n",
              "        text-align: right;\n",
              "    }\n",
              "</style>\n",
              "<table border=\"1\" class=\"dataframe\">\n",
              "  <thead>\n",
              "    <tr style=\"text-align: right;\">\n",
              "      <th></th>\n",
              "      <th>Date</th>\n",
              "      <th>Category</th>\n",
              "      <th>News</th>\n",
              "    </tr>\n",
              "  </thead>\n",
              "  <tbody>\n",
              "    <tr>\n",
              "      <th>0</th>\n",
              "      <td>publish_date</td>\n",
              "      <td>headline_category</td>\n",
              "      <td>headline_text</td>\n",
              "    </tr>\n",
              "    <tr>\n",
              "      <th>1</th>\n",
              "      <td>20010101</td>\n",
              "      <td>sports.wwe</td>\n",
              "      <td>win over cena satisfying but defeating underta...</td>\n",
              "    </tr>\n",
              "    <tr>\n",
              "      <th>2</th>\n",
              "      <td>20010102</td>\n",
              "      <td>unknown</td>\n",
              "      <td>Status quo will not be disturbed at Ayodhya; s...</td>\n",
              "    </tr>\n",
              "    <tr>\n",
              "      <th>3</th>\n",
              "      <td>20010102</td>\n",
              "      <td>unknown</td>\n",
              "      <td>Fissures in Hurriyat over Pak visit</td>\n",
              "    </tr>\n",
              "    <tr>\n",
              "      <th>4</th>\n",
              "      <td>20010102</td>\n",
              "      <td>unknown</td>\n",
              "      <td>America's unwanted heading for India?</td>\n",
              "    </tr>\n",
              "  </tbody>\n",
              "</table>\n",
              "</div>"
            ],
            "text/plain": [
              "           Date  ...                                               News\n",
              "0  publish_date  ...                                      headline_text\n",
              "1      20010101  ...  win over cena satisfying but defeating underta...\n",
              "2      20010102  ...  Status quo will not be disturbed at Ayodhya; s...\n",
              "3      20010102  ...                Fissures in Hurriyat over Pak visit\n",
              "4      20010102  ...              America's unwanted heading for India?\n",
              "\n",
              "[5 rows x 3 columns]"
            ]
          },
          "metadata": {
            "tags": []
          },
          "execution_count": 119
        }
      ]
    },
    {
      "cell_type": "code",
      "metadata": {
        "id": "k9SxGtdt64jy"
      },
      "source": [
        "df_news.drop(0, inplace = True)"
      ],
      "execution_count": null,
      "outputs": []
    },
    {
      "cell_type": "code",
      "metadata": {
        "id": "S4Ymu0kT67Ne"
      },
      "source": [
        "df_news.drop('Category', axis = 1, inplace = True)"
      ],
      "execution_count": null,
      "outputs": []
    },
    {
      "cell_type": "code",
      "metadata": {
        "id": "jXOVeAHI6_ia",
        "outputId": "8043cc5d-a0f6-4671-de52-69889be5925f",
        "colab": {
          "base_uri": "https://localhost:8080/",
          "height": 402
        }
      },
      "source": [
        "df_news"
      ],
      "execution_count": null,
      "outputs": [
        {
          "output_type": "execute_result",
          "data": {
            "text/html": [
              "<div>\n",
              "<style scoped>\n",
              "    .dataframe tbody tr th:only-of-type {\n",
              "        vertical-align: middle;\n",
              "    }\n",
              "\n",
              "    .dataframe tbody tr th {\n",
              "        vertical-align: top;\n",
              "    }\n",
              "\n",
              "    .dataframe thead th {\n",
              "        text-align: right;\n",
              "    }\n",
              "</style>\n",
              "<table border=\"1\" class=\"dataframe\">\n",
              "  <thead>\n",
              "    <tr style=\"text-align: right;\">\n",
              "      <th></th>\n",
              "      <th>Date</th>\n",
              "      <th>News</th>\n",
              "    </tr>\n",
              "  </thead>\n",
              "  <tbody>\n",
              "    <tr>\n",
              "      <th>1</th>\n",
              "      <td>20010101</td>\n",
              "      <td>win over cena satisfying but defeating underta...</td>\n",
              "    </tr>\n",
              "    <tr>\n",
              "      <th>2</th>\n",
              "      <td>20010102</td>\n",
              "      <td>Status quo will not be disturbed at Ayodhya; s...</td>\n",
              "    </tr>\n",
              "    <tr>\n",
              "      <th>3</th>\n",
              "      <td>20010102</td>\n",
              "      <td>Fissures in Hurriyat over Pak visit</td>\n",
              "    </tr>\n",
              "    <tr>\n",
              "      <th>4</th>\n",
              "      <td>20010102</td>\n",
              "      <td>America's unwanted heading for India?</td>\n",
              "    </tr>\n",
              "    <tr>\n",
              "      <th>5</th>\n",
              "      <td>20010102</td>\n",
              "      <td>For bigwigs; it is destination Goa</td>\n",
              "    </tr>\n",
              "    <tr>\n",
              "      <th>...</th>\n",
              "      <td>...</td>\n",
              "      <td>...</td>\n",
              "    </tr>\n",
              "    <tr>\n",
              "      <th>3297168</th>\n",
              "      <td>20200630</td>\n",
              "      <td>why tiktok removed 1 65 crore videos in india</td>\n",
              "    </tr>\n",
              "    <tr>\n",
              "      <th>3297169</th>\n",
              "      <td>20200630</td>\n",
              "      <td>apurva asrani calls alia bhatts mother soni ra...</td>\n",
              "    </tr>\n",
              "    <tr>\n",
              "      <th>3297170</th>\n",
              "      <td>20200630</td>\n",
              "      <td>kangana ranaut gets a doll version of herself ...</td>\n",
              "    </tr>\n",
              "    <tr>\n",
              "      <th>3297171</th>\n",
              "      <td>20200630</td>\n",
              "      <td>meezaan jaffrey reminisces his childhood days ...</td>\n",
              "    </tr>\n",
              "    <tr>\n",
              "      <th>3297172</th>\n",
              "      <td>20200630</td>\n",
              "      <td>prabhas20 titled as radhe shyam prabhas and po...</td>\n",
              "    </tr>\n",
              "  </tbody>\n",
              "</table>\n",
              "<p>3297172 rows × 2 columns</p>\n",
              "</div>"
            ],
            "text/plain": [
              "             Date                                               News\n",
              "1        20010101  win over cena satisfying but defeating underta...\n",
              "2        20010102  Status quo will not be disturbed at Ayodhya; s...\n",
              "3        20010102                Fissures in Hurriyat over Pak visit\n",
              "4        20010102              America's unwanted heading for India?\n",
              "5        20010102                 For bigwigs; it is destination Goa\n",
              "...           ...                                                ...\n",
              "3297168  20200630      why tiktok removed 1 65 crore videos in india\n",
              "3297169  20200630  apurva asrani calls alia bhatts mother soni ra...\n",
              "3297170  20200630  kangana ranaut gets a doll version of herself ...\n",
              "3297171  20200630  meezaan jaffrey reminisces his childhood days ...\n",
              "3297172  20200630  prabhas20 titled as radhe shyam prabhas and po...\n",
              "\n",
              "[3297172 rows x 2 columns]"
            ]
          },
          "metadata": {
            "tags": []
          },
          "execution_count": 122
        }
      ]
    },
    {
      "cell_type": "code",
      "metadata": {
        "id": "pUh-AGdg7A7L",
        "outputId": "274c2695-1f2a-4194-a93a-1ae4baf8d618",
        "colab": {
          "base_uri": "https://localhost:8080/"
        }
      },
      "source": [
        "df_news.info()"
      ],
      "execution_count": null,
      "outputs": [
        {
          "output_type": "stream",
          "text": [
            "<class 'pandas.core.frame.DataFrame'>\n",
            "Int64Index: 3297172 entries, 1 to 3297172\n",
            "Data columns (total 2 columns):\n",
            " #   Column  Dtype \n",
            "---  ------  ----- \n",
            " 0   Date    object\n",
            " 1   News    object\n",
            "dtypes: object(2)\n",
            "memory usage: 75.5+ MB\n"
          ],
          "name": "stdout"
        }
      ]
    },
    {
      "cell_type": "code",
      "metadata": {
        "id": "NNgVMuEP7MoM",
        "outputId": "17317060-9f10-4103-b266-4d02c95172b0",
        "colab": {
          "base_uri": "https://localhost:8080/",
          "height": 402
        }
      },
      "source": [
        "df_news['Date'] = pd.to_datetime(df_news['Date'], format = '%Y%m%d')\n",
        "df_news"
      ],
      "execution_count": null,
      "outputs": [
        {
          "output_type": "execute_result",
          "data": {
            "text/html": [
              "<div>\n",
              "<style scoped>\n",
              "    .dataframe tbody tr th:only-of-type {\n",
              "        vertical-align: middle;\n",
              "    }\n",
              "\n",
              "    .dataframe tbody tr th {\n",
              "        vertical-align: top;\n",
              "    }\n",
              "\n",
              "    .dataframe thead th {\n",
              "        text-align: right;\n",
              "    }\n",
              "</style>\n",
              "<table border=\"1\" class=\"dataframe\">\n",
              "  <thead>\n",
              "    <tr style=\"text-align: right;\">\n",
              "      <th></th>\n",
              "      <th>Date</th>\n",
              "      <th>News</th>\n",
              "    </tr>\n",
              "  </thead>\n",
              "  <tbody>\n",
              "    <tr>\n",
              "      <th>1</th>\n",
              "      <td>2001-01-01</td>\n",
              "      <td>win over cena satisfying but defeating underta...</td>\n",
              "    </tr>\n",
              "    <tr>\n",
              "      <th>2</th>\n",
              "      <td>2001-01-02</td>\n",
              "      <td>Status quo will not be disturbed at Ayodhya; s...</td>\n",
              "    </tr>\n",
              "    <tr>\n",
              "      <th>3</th>\n",
              "      <td>2001-01-02</td>\n",
              "      <td>Fissures in Hurriyat over Pak visit</td>\n",
              "    </tr>\n",
              "    <tr>\n",
              "      <th>4</th>\n",
              "      <td>2001-01-02</td>\n",
              "      <td>America's unwanted heading for India?</td>\n",
              "    </tr>\n",
              "    <tr>\n",
              "      <th>5</th>\n",
              "      <td>2001-01-02</td>\n",
              "      <td>For bigwigs; it is destination Goa</td>\n",
              "    </tr>\n",
              "    <tr>\n",
              "      <th>...</th>\n",
              "      <td>...</td>\n",
              "      <td>...</td>\n",
              "    </tr>\n",
              "    <tr>\n",
              "      <th>3297168</th>\n",
              "      <td>2020-06-30</td>\n",
              "      <td>why tiktok removed 1 65 crore videos in india</td>\n",
              "    </tr>\n",
              "    <tr>\n",
              "      <th>3297169</th>\n",
              "      <td>2020-06-30</td>\n",
              "      <td>apurva asrani calls alia bhatts mother soni ra...</td>\n",
              "    </tr>\n",
              "    <tr>\n",
              "      <th>3297170</th>\n",
              "      <td>2020-06-30</td>\n",
              "      <td>kangana ranaut gets a doll version of herself ...</td>\n",
              "    </tr>\n",
              "    <tr>\n",
              "      <th>3297171</th>\n",
              "      <td>2020-06-30</td>\n",
              "      <td>meezaan jaffrey reminisces his childhood days ...</td>\n",
              "    </tr>\n",
              "    <tr>\n",
              "      <th>3297172</th>\n",
              "      <td>2020-06-30</td>\n",
              "      <td>prabhas20 titled as radhe shyam prabhas and po...</td>\n",
              "    </tr>\n",
              "  </tbody>\n",
              "</table>\n",
              "<p>3297172 rows × 2 columns</p>\n",
              "</div>"
            ],
            "text/plain": [
              "              Date                                               News\n",
              "1       2001-01-01  win over cena satisfying but defeating underta...\n",
              "2       2001-01-02  Status quo will not be disturbed at Ayodhya; s...\n",
              "3       2001-01-02                Fissures in Hurriyat over Pak visit\n",
              "4       2001-01-02              America's unwanted heading for India?\n",
              "5       2001-01-02                 For bigwigs; it is destination Goa\n",
              "...            ...                                                ...\n",
              "3297168 2020-06-30      why tiktok removed 1 65 crore videos in india\n",
              "3297169 2020-06-30  apurva asrani calls alia bhatts mother soni ra...\n",
              "3297170 2020-06-30  kangana ranaut gets a doll version of herself ...\n",
              "3297171 2020-06-30  meezaan jaffrey reminisces his childhood days ...\n",
              "3297172 2020-06-30  prabhas20 titled as radhe shyam prabhas and po...\n",
              "\n",
              "[3297172 rows x 2 columns]"
            ]
          },
          "metadata": {
            "tags": []
          },
          "execution_count": 124
        }
      ]
    },
    {
      "cell_type": "code",
      "metadata": {
        "id": "8WYmGIX-7SDO",
        "outputId": "94a9f6e8-8a19-4814-9210-8e465c5fa4b5",
        "colab": {
          "base_uri": "https://localhost:8080/",
          "height": 402
        }
      },
      "source": [
        "df_news['News'] = df_news.groupby(['Date']).transform(lambda x: ' '.join(x))\n",
        "df_news = df_news.drop_duplicates() \n",
        "df_news.reset_index(inplace = True, drop = True)\n",
        "df_news"
      ],
      "execution_count": null,
      "outputs": [
        {
          "output_type": "execute_result",
          "data": {
            "text/html": [
              "<div>\n",
              "<style scoped>\n",
              "    .dataframe tbody tr th:only-of-type {\n",
              "        vertical-align: middle;\n",
              "    }\n",
              "\n",
              "    .dataframe tbody tr th {\n",
              "        vertical-align: top;\n",
              "    }\n",
              "\n",
              "    .dataframe thead th {\n",
              "        text-align: right;\n",
              "    }\n",
              "</style>\n",
              "<table border=\"1\" class=\"dataframe\">\n",
              "  <thead>\n",
              "    <tr style=\"text-align: right;\">\n",
              "      <th></th>\n",
              "      <th>Date</th>\n",
              "      <th>News</th>\n",
              "    </tr>\n",
              "  </thead>\n",
              "  <tbody>\n",
              "    <tr>\n",
              "      <th>0</th>\n",
              "      <td>2001-01-01</td>\n",
              "      <td>win over cena satisfying but defeating underta...</td>\n",
              "    </tr>\n",
              "    <tr>\n",
              "      <th>1</th>\n",
              "      <td>2001-01-02</td>\n",
              "      <td>Status quo will not be disturbed at Ayodhya; s...</td>\n",
              "    </tr>\n",
              "    <tr>\n",
              "      <th>2</th>\n",
              "      <td>2001-01-03</td>\n",
              "      <td>Powerless north India gropes in the dark Think...</td>\n",
              "    </tr>\n",
              "    <tr>\n",
              "      <th>3</th>\n",
              "      <td>2001-01-04</td>\n",
              "      <td>The string that pulled Stephen Hawking to Indi...</td>\n",
              "    </tr>\n",
              "    <tr>\n",
              "      <th>4</th>\n",
              "      <td>2001-01-05</td>\n",
              "      <td>Light combat craft takes India into club class...</td>\n",
              "    </tr>\n",
              "    <tr>\n",
              "      <th>...</th>\n",
              "      <td>...</td>\n",
              "      <td>...</td>\n",
              "    </tr>\n",
              "    <tr>\n",
              "      <th>7075</th>\n",
              "      <td>2020-06-26</td>\n",
              "      <td>Containment zone residents slam high prices ch...</td>\n",
              "    </tr>\n",
              "    <tr>\n",
              "      <th>7076</th>\n",
              "      <td>2020-06-27</td>\n",
              "      <td>like me i wont let you have a toxic relationsh...</td>\n",
              "    </tr>\n",
              "    <tr>\n",
              "      <th>7077</th>\n",
              "      <td>2020-06-28</td>\n",
              "      <td>Atanu Ghosh plans to rewrite old scripts to ma...</td>\n",
              "    </tr>\n",
              "    <tr>\n",
              "      <th>7078</th>\n",
              "      <td>2020-06-29</td>\n",
              "      <td>6 hot and stylish bikini looks of Katrina Kaif...</td>\n",
              "    </tr>\n",
              "    <tr>\n",
              "      <th>7079</th>\n",
              "      <td>2020-06-30</td>\n",
              "      <td>Detective Byomkesh Bakshy! Edge of Tomorrow Fi...</td>\n",
              "    </tr>\n",
              "  </tbody>\n",
              "</table>\n",
              "<p>7080 rows × 2 columns</p>\n",
              "</div>"
            ],
            "text/plain": [
              "           Date                                               News\n",
              "0    2001-01-01  win over cena satisfying but defeating underta...\n",
              "1    2001-01-02  Status quo will not be disturbed at Ayodhya; s...\n",
              "2    2001-01-03  Powerless north India gropes in the dark Think...\n",
              "3    2001-01-04  The string that pulled Stephen Hawking to Indi...\n",
              "4    2001-01-05  Light combat craft takes India into club class...\n",
              "...         ...                                                ...\n",
              "7075 2020-06-26  Containment zone residents slam high prices ch...\n",
              "7076 2020-06-27  like me i wont let you have a toxic relationsh...\n",
              "7077 2020-06-28  Atanu Ghosh plans to rewrite old scripts to ma...\n",
              "7078 2020-06-29  6 hot and stylish bikini looks of Katrina Kaif...\n",
              "7079 2020-06-30  Detective Byomkesh Bakshy! Edge of Tomorrow Fi...\n",
              "\n",
              "[7080 rows x 2 columns]"
            ]
          },
          "metadata": {
            "tags": []
          },
          "execution_count": 125
        }
      ]
    },
    {
      "cell_type": "code",
      "metadata": {
        "id": "tnu5fRmi7rcD",
        "outputId": "5c84b6e2-8b1b-483c-8d8e-170b613446e8",
        "colab": {
          "base_uri": "https://localhost:8080/"
        }
      },
      "source": [
        "df_news['News']"
      ],
      "execution_count": null,
      "outputs": [
        {
          "output_type": "execute_result",
          "data": {
            "text/plain": [
              "0       win over cena satisfying but defeating underta...\n",
              "1       Status quo will not be disturbed at Ayodhya; s...\n",
              "2       Powerless north India gropes in the dark Think...\n",
              "3       The string that pulled Stephen Hawking to Indi...\n",
              "4       Light combat craft takes India into club class...\n",
              "                              ...                        \n",
              "7075    Containment zone residents slam high prices ch...\n",
              "7076    like me i wont let you have a toxic relationsh...\n",
              "7077    Atanu Ghosh plans to rewrite old scripts to ma...\n",
              "7078    6 hot and stylish bikini looks of Katrina Kaif...\n",
              "7079    Detective Byomkesh Bakshy! Edge of Tomorrow Fi...\n",
              "Name: News, Length: 7080, dtype: object"
            ]
          },
          "metadata": {
            "tags": []
          },
          "execution_count": 126
        }
      ]
    },
    {
      "cell_type": "code",
      "metadata": {
        "id": "Ka7yKMcn8Yxf"
      },
      "source": [
        "ch = []\n",
        "for i in range(0, len(df_news['News'])):\n",
        "  news = re.sub('[^a-zA-Z]', ' ', df_news['News'][i])\n",
        "  news = news.lower()\n",
        "  news = news.split()\n",
        "  news = [ps.stem(word) for word in news if not word in set(stopwords.words('english'))]\n",
        "  news=' '.join(news)\n",
        "  ch.append(news)"
      ],
      "execution_count": null,
      "outputs": []
    },
    {
      "cell_type": "code",
      "metadata": {
        "id": "R_K9xqt58vCF",
        "outputId": "f93c44e5-5038-4b00-eb87-cb5ee49eaa64",
        "colab": {
          "base_uri": "https://localhost:8080/",
          "height": 502
        }
      },
      "source": [
        "df_news['News'] = pd.Series(ch)\n",
        "df_news"
      ],
      "execution_count": null,
      "outputs": [
        {
          "output_type": "stream",
          "text": [
            "/usr/local/lib/python3.6/dist-packages/ipykernel_launcher.py:1: SettingWithCopyWarning: \n",
            "A value is trying to be set on a copy of a slice from a DataFrame.\n",
            "Try using .loc[row_indexer,col_indexer] = value instead\n",
            "\n",
            "See the caveats in the documentation: https://pandas.pydata.org/pandas-docs/stable/user_guide/indexing.html#returning-a-view-versus-a-copy\n",
            "  \"\"\"Entry point for launching an IPython kernel.\n"
          ],
          "name": "stderr"
        },
        {
          "output_type": "execute_result",
          "data": {
            "text/html": [
              "<div>\n",
              "<style scoped>\n",
              "    .dataframe tbody tr th:only-of-type {\n",
              "        vertical-align: middle;\n",
              "    }\n",
              "\n",
              "    .dataframe tbody tr th {\n",
              "        vertical-align: top;\n",
              "    }\n",
              "\n",
              "    .dataframe thead th {\n",
              "        text-align: right;\n",
              "    }\n",
              "</style>\n",
              "<table border=\"1\" class=\"dataframe\">\n",
              "  <thead>\n",
              "    <tr style=\"text-align: right;\">\n",
              "      <th></th>\n",
              "      <th>Date</th>\n",
              "      <th>News</th>\n",
              "    </tr>\n",
              "  </thead>\n",
              "  <tbody>\n",
              "    <tr>\n",
              "      <th>0</th>\n",
              "      <td>2001-01-01</td>\n",
              "      <td>win cena satisfi defeat undertak bigger roman ...</td>\n",
              "    </tr>\n",
              "    <tr>\n",
              "      <th>1</th>\n",
              "      <td>2001-01-02</td>\n",
              "      <td>statu quo disturb ayodhya say vajpaye fissur h...</td>\n",
              "    </tr>\n",
              "    <tr>\n",
              "      <th>2</th>\n",
              "      <td>2001-01-03</td>\n",
              "      <td>powerless north india grope dark think laxman ...</td>\n",
              "    </tr>\n",
              "    <tr>\n",
              "      <th>3</th>\n",
              "      <td>2001-01-04</td>\n",
              "      <td>string pull stephen hawk india vajpaye give bi...</td>\n",
              "    </tr>\n",
              "    <tr>\n",
              "      <th>4</th>\n",
              "      <td>2001-01-05</td>\n",
              "      <td>light combat craft take india club class hawk ...</td>\n",
              "    </tr>\n",
              "    <tr>\n",
              "      <th>...</th>\n",
              "      <td>...</td>\n",
              "      <td>...</td>\n",
              "    </tr>\n",
              "    <tr>\n",
              "      <th>7075</th>\n",
              "      <td>2020-06-26</td>\n",
              "      <td>contain zone resid slam high price charg veget...</td>\n",
              "    </tr>\n",
              "    <tr>\n",
              "      <th>7076</th>\n",
              "      <td>2020-06-27</td>\n",
              "      <td>like wont let toxic relationship food major ra...</td>\n",
              "    </tr>\n",
              "    <tr>\n",
              "      <th>7077</th>\n",
              "      <td>2020-06-28</td>\n",
              "      <td>atanu ghosh plan rewrit old script make relev ...</td>\n",
              "    </tr>\n",
              "    <tr>\n",
              "      <th>7078</th>\n",
              "      <td>2020-06-29</td>\n",
              "      <td>hot stylish bikini look katrina kaif anna eden...</td>\n",
              "    </tr>\n",
              "    <tr>\n",
              "      <th>7079</th>\n",
              "      <td>2020-06-30</td>\n",
              "      <td>detect byomkesh bakshi edg tomorrow first look...</td>\n",
              "    </tr>\n",
              "  </tbody>\n",
              "</table>\n",
              "<p>7080 rows × 2 columns</p>\n",
              "</div>"
            ],
            "text/plain": [
              "           Date                                               News\n",
              "0    2001-01-01  win cena satisfi defeat undertak bigger roman ...\n",
              "1    2001-01-02  statu quo disturb ayodhya say vajpaye fissur h...\n",
              "2    2001-01-03  powerless north india grope dark think laxman ...\n",
              "3    2001-01-04  string pull stephen hawk india vajpaye give bi...\n",
              "4    2001-01-05  light combat craft take india club class hawk ...\n",
              "...         ...                                                ...\n",
              "7075 2020-06-26  contain zone resid slam high price charg veget...\n",
              "7076 2020-06-27  like wont let toxic relationship food major ra...\n",
              "7077 2020-06-28  atanu ghosh plan rewrit old script make relev ...\n",
              "7078 2020-06-29  hot stylish bikini look katrina kaif anna eden...\n",
              "7079 2020-06-30  detect byomkesh bakshi edg tomorrow first look...\n",
              "\n",
              "[7080 rows x 2 columns]"
            ]
          },
          "metadata": {
            "tags": []
          },
          "execution_count": 128
        }
      ]
    },
    {
      "cell_type": "code",
      "metadata": {
        "id": "unHz_vNZLgxF"
      },
      "source": [
        "def get_subjectivity(text):\n",
        "  return TextBlob(text).sentiment.subjectivity\n",
        "def get_polarity(text):\n",
        "  return TextBlob(text).sentiment.polarity"
      ],
      "execution_count": null,
      "outputs": []
    },
    {
      "cell_type": "code",
      "metadata": {
        "id": "_ZrO9nMbL5sC",
        "outputId": "7de30082-ccc3-421e-8b78-aa9671955a22",
        "colab": {
          "base_uri": "https://localhost:8080/",
          "height": 603
        }
      },
      "source": [
        "df_news['Subjectivity'] = df_news['News'].apply(get_subjectivity)\n",
        "df_news['Polarity'] = df_news['News'].apply(get_polarity)\n",
        "df_news"
      ],
      "execution_count": null,
      "outputs": [
        {
          "output_type": "stream",
          "text": [
            "/usr/local/lib/python3.6/dist-packages/ipykernel_launcher.py:1: SettingWithCopyWarning: \n",
            "A value is trying to be set on a copy of a slice from a DataFrame.\n",
            "Try using .loc[row_indexer,col_indexer] = value instead\n",
            "\n",
            "See the caveats in the documentation: https://pandas.pydata.org/pandas-docs/stable/user_guide/indexing.html#returning-a-view-versus-a-copy\n",
            "  \"\"\"Entry point for launching an IPython kernel.\n",
            "/usr/local/lib/python3.6/dist-packages/ipykernel_launcher.py:2: SettingWithCopyWarning: \n",
            "A value is trying to be set on a copy of a slice from a DataFrame.\n",
            "Try using .loc[row_indexer,col_indexer] = value instead\n",
            "\n",
            "See the caveats in the documentation: https://pandas.pydata.org/pandas-docs/stable/user_guide/indexing.html#returning-a-view-versus-a-copy\n",
            "  \n"
          ],
          "name": "stderr"
        },
        {
          "output_type": "execute_result",
          "data": {
            "text/html": [
              "<div>\n",
              "<style scoped>\n",
              "    .dataframe tbody tr th:only-of-type {\n",
              "        vertical-align: middle;\n",
              "    }\n",
              "\n",
              "    .dataframe tbody tr th {\n",
              "        vertical-align: top;\n",
              "    }\n",
              "\n",
              "    .dataframe thead th {\n",
              "        text-align: right;\n",
              "    }\n",
              "</style>\n",
              "<table border=\"1\" class=\"dataframe\">\n",
              "  <thead>\n",
              "    <tr style=\"text-align: right;\">\n",
              "      <th></th>\n",
              "      <th>Date</th>\n",
              "      <th>News</th>\n",
              "      <th>Subjectivity</th>\n",
              "      <th>Polarity</th>\n",
              "    </tr>\n",
              "  </thead>\n",
              "  <tbody>\n",
              "    <tr>\n",
              "      <th>0</th>\n",
              "      <td>2001-01-01</td>\n",
              "      <td>win cena satisfi defeat undertak bigger roman ...</td>\n",
              "      <td>0.450000</td>\n",
              "      <td>0.400000</td>\n",
              "    </tr>\n",
              "    <tr>\n",
              "      <th>1</th>\n",
              "      <td>2001-01-02</td>\n",
              "      <td>statu quo disturb ayodhya say vajpaye fissur h...</td>\n",
              "      <td>0.298148</td>\n",
              "      <td>0.099074</td>\n",
              "    </tr>\n",
              "    <tr>\n",
              "      <th>2</th>\n",
              "      <td>2001-01-03</td>\n",
              "      <td>powerless north india grope dark think laxman ...</td>\n",
              "      <td>0.429167</td>\n",
              "      <td>0.025000</td>\n",
              "    </tr>\n",
              "    <tr>\n",
              "      <th>3</th>\n",
              "      <td>2001-01-04</td>\n",
              "      <td>string pull stephen hawk india vajpaye give bi...</td>\n",
              "      <td>0.475140</td>\n",
              "      <td>0.032481</td>\n",
              "    </tr>\n",
              "    <tr>\n",
              "      <th>4</th>\n",
              "      <td>2001-01-05</td>\n",
              "      <td>light combat craft take india club class hawk ...</td>\n",
              "      <td>0.458412</td>\n",
              "      <td>0.296404</td>\n",
              "    </tr>\n",
              "    <tr>\n",
              "      <th>...</th>\n",
              "      <td>...</td>\n",
              "      <td>...</td>\n",
              "      <td>...</td>\n",
              "      <td>...</td>\n",
              "    </tr>\n",
              "    <tr>\n",
              "      <th>7075</th>\n",
              "      <td>2020-06-26</td>\n",
              "      <td>contain zone resid slam high price charg veget...</td>\n",
              "      <td>0.330257</td>\n",
              "      <td>0.066958</td>\n",
              "    </tr>\n",
              "    <tr>\n",
              "      <th>7076</th>\n",
              "      <td>2020-06-27</td>\n",
              "      <td>like wont let toxic relationship food major ra...</td>\n",
              "      <td>0.372264</td>\n",
              "      <td>0.064784</td>\n",
              "    </tr>\n",
              "    <tr>\n",
              "      <th>7077</th>\n",
              "      <td>2020-06-28</td>\n",
              "      <td>atanu ghosh plan rewrit old script make relev ...</td>\n",
              "      <td>0.378165</td>\n",
              "      <td>0.054209</td>\n",
              "    </tr>\n",
              "    <tr>\n",
              "      <th>7078</th>\n",
              "      <td>2020-06-29</td>\n",
              "      <td>hot stylish bikini look katrina kaif anna eden...</td>\n",
              "      <td>0.373210</td>\n",
              "      <td>0.060782</td>\n",
              "    </tr>\n",
              "    <tr>\n",
              "      <th>7079</th>\n",
              "      <td>2020-06-30</td>\n",
              "      <td>detect byomkesh bakshi edg tomorrow first look...</td>\n",
              "      <td>0.349361</td>\n",
              "      <td>0.059465</td>\n",
              "    </tr>\n",
              "  </tbody>\n",
              "</table>\n",
              "<p>7080 rows × 4 columns</p>\n",
              "</div>"
            ],
            "text/plain": [
              "           Date  ...  Polarity\n",
              "0    2001-01-01  ...  0.400000\n",
              "1    2001-01-02  ...  0.099074\n",
              "2    2001-01-03  ...  0.025000\n",
              "3    2001-01-04  ...  0.032481\n",
              "4    2001-01-05  ...  0.296404\n",
              "...         ...  ...       ...\n",
              "7075 2020-06-26  ...  0.066958\n",
              "7076 2020-06-27  ...  0.064784\n",
              "7077 2020-06-28  ...  0.054209\n",
              "7078 2020-06-29  ...  0.060782\n",
              "7079 2020-06-30  ...  0.059465\n",
              "\n",
              "[7080 rows x 4 columns]"
            ]
          },
          "metadata": {
            "tags": []
          },
          "execution_count": 131
        }
      ]
    },
    {
      "cell_type": "markdown",
      "metadata": {
        "id": "1x1hVIl7vejB"
      },
      "source": [
        "While subjectivity captures how opinionated the headline is, polarity captures the nature of the sentiment of the headline (positive or negative)."
      ]
    },
    {
      "cell_type": "code",
      "metadata": {
        "id": "7VbTVXSTNUjr",
        "outputId": "b4d53108-cf8b-40bc-b0d8-6fb30dc139de",
        "colab": {
          "base_uri": "https://localhost:8080/"
        }
      },
      "source": [
        "df_news.info()"
      ],
      "execution_count": null,
      "outputs": [
        {
          "output_type": "stream",
          "text": [
            "<class 'pandas.core.frame.DataFrame'>\n",
            "RangeIndex: 7080 entries, 0 to 7079\n",
            "Data columns (total 4 columns):\n",
            " #   Column        Non-Null Count  Dtype         \n",
            "---  ------        --------------  -----         \n",
            " 0   Date          7080 non-null   datetime64[ns]\n",
            " 1   News          7080 non-null   object        \n",
            " 2   Subjectivity  7080 non-null   float64       \n",
            " 3   Polarity      7080 non-null   float64       \n",
            "dtypes: datetime64[ns](1), float64(2), object(1)\n",
            "memory usage: 221.4+ KB\n"
          ],
          "name": "stdout"
        }
      ]
    },
    {
      "cell_type": "code",
      "metadata": {
        "id": "ZHt1zU-POJGO"
      },
      "source": [
        "intense = SentimentIntensityAnalyzer()"
      ],
      "execution_count": null,
      "outputs": []
    },
    {
      "cell_type": "markdown",
      "metadata": {
        "id": "SVTr5_K_vq0Z"
      },
      "source": [
        "Using the VADER polarity scores, we can obtain the positive, negative and neutrality scores for the headlines, and a compound, which is an aggregate measure of it all."
      ]
    },
    {
      "cell_type": "code",
      "metadata": {
        "id": "tPqAYM-QOSfY",
        "outputId": "d074fda3-b936-4da8-e215-9915e98fbbb8",
        "colab": {
          "base_uri": "https://localhost:8080/",
          "height": 805
        }
      },
      "source": [
        "df_news['Compound'] = [intense.polarity_scores(a)['compound'] for a in df_news['News']]\n",
        "df_news['Negative'] = [intense.polarity_scores(a)['neg'] for a in df_news['News']]\n",
        "df_news['Neutral'] = [intense.polarity_scores(a)['neu'] for a in df_news['News']]\n",
        "df_news['Positive'] = [intense.polarity_scores(a)['pos'] for a in df_news['News']]\n",
        "df_news"
      ],
      "execution_count": null,
      "outputs": [
        {
          "output_type": "stream",
          "text": [
            "/usr/local/lib/python3.6/dist-packages/ipykernel_launcher.py:1: SettingWithCopyWarning: \n",
            "A value is trying to be set on a copy of a slice from a DataFrame.\n",
            "Try using .loc[row_indexer,col_indexer] = value instead\n",
            "\n",
            "See the caveats in the documentation: https://pandas.pydata.org/pandas-docs/stable/user_guide/indexing.html#returning-a-view-versus-a-copy\n",
            "  \"\"\"Entry point for launching an IPython kernel.\n",
            "/usr/local/lib/python3.6/dist-packages/ipykernel_launcher.py:2: SettingWithCopyWarning: \n",
            "A value is trying to be set on a copy of a slice from a DataFrame.\n",
            "Try using .loc[row_indexer,col_indexer] = value instead\n",
            "\n",
            "See the caveats in the documentation: https://pandas.pydata.org/pandas-docs/stable/user_guide/indexing.html#returning-a-view-versus-a-copy\n",
            "  \n",
            "/usr/local/lib/python3.6/dist-packages/ipykernel_launcher.py:3: SettingWithCopyWarning: \n",
            "A value is trying to be set on a copy of a slice from a DataFrame.\n",
            "Try using .loc[row_indexer,col_indexer] = value instead\n",
            "\n",
            "See the caveats in the documentation: https://pandas.pydata.org/pandas-docs/stable/user_guide/indexing.html#returning-a-view-versus-a-copy\n",
            "  This is separate from the ipykernel package so we can avoid doing imports until\n",
            "/usr/local/lib/python3.6/dist-packages/ipykernel_launcher.py:4: SettingWithCopyWarning: \n",
            "A value is trying to be set on a copy of a slice from a DataFrame.\n",
            "Try using .loc[row_indexer,col_indexer] = value instead\n",
            "\n",
            "See the caveats in the documentation: https://pandas.pydata.org/pandas-docs/stable/user_guide/indexing.html#returning-a-view-versus-a-copy\n",
            "  after removing the cwd from sys.path.\n"
          ],
          "name": "stderr"
        },
        {
          "output_type": "execute_result",
          "data": {
            "text/html": [
              "<div>\n",
              "<style scoped>\n",
              "    .dataframe tbody tr th:only-of-type {\n",
              "        vertical-align: middle;\n",
              "    }\n",
              "\n",
              "    .dataframe tbody tr th {\n",
              "        vertical-align: top;\n",
              "    }\n",
              "\n",
              "    .dataframe thead th {\n",
              "        text-align: right;\n",
              "    }\n",
              "</style>\n",
              "<table border=\"1\" class=\"dataframe\">\n",
              "  <thead>\n",
              "    <tr style=\"text-align: right;\">\n",
              "      <th></th>\n",
              "      <th>Date</th>\n",
              "      <th>News</th>\n",
              "      <th>Subjectivity</th>\n",
              "      <th>Polarity</th>\n",
              "      <th>Compound</th>\n",
              "      <th>Negative</th>\n",
              "      <th>Neutral</th>\n",
              "      <th>Positive</th>\n",
              "    </tr>\n",
              "  </thead>\n",
              "  <tbody>\n",
              "    <tr>\n",
              "      <th>0</th>\n",
              "      <td>2001-01-01</td>\n",
              "      <td>win cena satisfi defeat undertak bigger roman ...</td>\n",
              "      <td>0.450000</td>\n",
              "      <td>0.400000</td>\n",
              "      <td>0.2023</td>\n",
              "      <td>0.234</td>\n",
              "      <td>0.469</td>\n",
              "      <td>0.297</td>\n",
              "    </tr>\n",
              "    <tr>\n",
              "      <th>1</th>\n",
              "      <td>2001-01-02</td>\n",
              "      <td>statu quo disturb ayodhya say vajpaye fissur h...</td>\n",
              "      <td>0.298148</td>\n",
              "      <td>0.099074</td>\n",
              "      <td>-0.8555</td>\n",
              "      <td>0.125</td>\n",
              "      <td>0.773</td>\n",
              "      <td>0.102</td>\n",
              "    </tr>\n",
              "    <tr>\n",
              "      <th>2</th>\n",
              "      <td>2001-01-03</td>\n",
              "      <td>powerless north india grope dark think laxman ...</td>\n",
              "      <td>0.429167</td>\n",
              "      <td>0.025000</td>\n",
              "      <td>-0.5994</td>\n",
              "      <td>0.132</td>\n",
              "      <td>0.755</td>\n",
              "      <td>0.113</td>\n",
              "    </tr>\n",
              "    <tr>\n",
              "      <th>3</th>\n",
              "      <td>2001-01-04</td>\n",
              "      <td>string pull stephen hawk india vajpaye give bi...</td>\n",
              "      <td>0.475140</td>\n",
              "      <td>0.032481</td>\n",
              "      <td>0.9169</td>\n",
              "      <td>0.099</td>\n",
              "      <td>0.791</td>\n",
              "      <td>0.110</td>\n",
              "    </tr>\n",
              "    <tr>\n",
              "      <th>4</th>\n",
              "      <td>2001-01-05</td>\n",
              "      <td>light combat craft take india club class hawk ...</td>\n",
              "      <td>0.458412</td>\n",
              "      <td>0.296404</td>\n",
              "      <td>-0.3612</td>\n",
              "      <td>0.171</td>\n",
              "      <td>0.659</td>\n",
              "      <td>0.170</td>\n",
              "    </tr>\n",
              "    <tr>\n",
              "      <th>...</th>\n",
              "      <td>...</td>\n",
              "      <td>...</td>\n",
              "      <td>...</td>\n",
              "      <td>...</td>\n",
              "      <td>...</td>\n",
              "      <td>...</td>\n",
              "      <td>...</td>\n",
              "      <td>...</td>\n",
              "    </tr>\n",
              "    <tr>\n",
              "      <th>7075</th>\n",
              "      <td>2020-06-26</td>\n",
              "      <td>contain zone resid slam high price charg veget...</td>\n",
              "      <td>0.330257</td>\n",
              "      <td>0.066958</td>\n",
              "      <td>-0.9998</td>\n",
              "      <td>0.142</td>\n",
              "      <td>0.789</td>\n",
              "      <td>0.069</td>\n",
              "    </tr>\n",
              "    <tr>\n",
              "      <th>7076</th>\n",
              "      <td>2020-06-27</td>\n",
              "      <td>like wont let toxic relationship food major ra...</td>\n",
              "      <td>0.372264</td>\n",
              "      <td>0.064784</td>\n",
              "      <td>-0.9998</td>\n",
              "      <td>0.139</td>\n",
              "      <td>0.790</td>\n",
              "      <td>0.070</td>\n",
              "    </tr>\n",
              "    <tr>\n",
              "      <th>7077</th>\n",
              "      <td>2020-06-28</td>\n",
              "      <td>atanu ghosh plan rewrit old script make relev ...</td>\n",
              "      <td>0.378165</td>\n",
              "      <td>0.054209</td>\n",
              "      <td>-0.9998</td>\n",
              "      <td>0.136</td>\n",
              "      <td>0.800</td>\n",
              "      <td>0.064</td>\n",
              "    </tr>\n",
              "    <tr>\n",
              "      <th>7078</th>\n",
              "      <td>2020-06-29</td>\n",
              "      <td>hot stylish bikini look katrina kaif anna eden...</td>\n",
              "      <td>0.373210</td>\n",
              "      <td>0.060782</td>\n",
              "      <td>-0.9998</td>\n",
              "      <td>0.130</td>\n",
              "      <td>0.800</td>\n",
              "      <td>0.070</td>\n",
              "    </tr>\n",
              "    <tr>\n",
              "      <th>7079</th>\n",
              "      <td>2020-06-30</td>\n",
              "      <td>detect byomkesh bakshi edg tomorrow first look...</td>\n",
              "      <td>0.349361</td>\n",
              "      <td>0.059465</td>\n",
              "      <td>-0.9999</td>\n",
              "      <td>0.134</td>\n",
              "      <td>0.818</td>\n",
              "      <td>0.048</td>\n",
              "    </tr>\n",
              "  </tbody>\n",
              "</table>\n",
              "<p>7080 rows × 8 columns</p>\n",
              "</div>"
            ],
            "text/plain": [
              "           Date  ... Positive\n",
              "0    2001-01-01  ...    0.297\n",
              "1    2001-01-02  ...    0.102\n",
              "2    2001-01-03  ...    0.113\n",
              "3    2001-01-04  ...    0.110\n",
              "4    2001-01-05  ...    0.170\n",
              "...         ...  ...      ...\n",
              "7075 2020-06-26  ...    0.069\n",
              "7076 2020-06-27  ...    0.070\n",
              "7077 2020-06-28  ...    0.064\n",
              "7078 2020-06-29  ...    0.070\n",
              "7079 2020-06-30  ...    0.048\n",
              "\n",
              "[7080 rows x 8 columns]"
            ]
          },
          "metadata": {
            "tags": []
          },
          "execution_count": 134
        }
      ]
    },
    {
      "cell_type": "markdown",
      "metadata": {
        "id": "Ad-vDtZIv1Zq"
      },
      "source": [
        "Merging the Stock prices dataset with the news headline dataset along with NLTK's polarity scores, in order to predict stock prices using the changes in the sentiment"
      ]
    },
    {
      "cell_type": "code",
      "metadata": {
        "id": "wtwGuponO59_",
        "outputId": "f01ec8ad-4280-48cd-cfb4-4cc2f36b2cce",
        "colab": {
          "base_uri": "https://localhost:8080/",
          "height": 402
        }
      },
      "source": [
        "df_merged = pd.merge(rel, df_news, how = 'inner', on = 'Date')\n",
        "df_merged"
      ],
      "execution_count": null,
      "outputs": [
        {
          "output_type": "execute_result",
          "data": {
            "text/html": [
              "<div>\n",
              "<style scoped>\n",
              "    .dataframe tbody tr th:only-of-type {\n",
              "        vertical-align: middle;\n",
              "    }\n",
              "\n",
              "    .dataframe tbody tr th {\n",
              "        vertical-align: top;\n",
              "    }\n",
              "\n",
              "    .dataframe thead th {\n",
              "        text-align: right;\n",
              "    }\n",
              "</style>\n",
              "<table border=\"1\" class=\"dataframe\">\n",
              "  <thead>\n",
              "    <tr style=\"text-align: right;\">\n",
              "      <th></th>\n",
              "      <th>Date</th>\n",
              "      <th>Close</th>\n",
              "      <th>Returns</th>\n",
              "      <th>News</th>\n",
              "      <th>Subjectivity</th>\n",
              "      <th>Polarity</th>\n",
              "      <th>Compound</th>\n",
              "      <th>Negative</th>\n",
              "      <th>Neutral</th>\n",
              "      <th>Positive</th>\n",
              "    </tr>\n",
              "  </thead>\n",
              "  <tbody>\n",
              "    <tr>\n",
              "      <th>0</th>\n",
              "      <td>2015-11-17</td>\n",
              "      <td>6.139346</td>\n",
              "      <td>-0.005966</td>\n",
              "      <td>healthi fridg quiz curiou case bollywood name ...</td>\n",
              "      <td>0.414518</td>\n",
              "      <td>0.061043</td>\n",
              "      <td>-0.9997</td>\n",
              "      <td>0.138</td>\n",
              "      <td>0.767</td>\n",
              "      <td>0.095</td>\n",
              "    </tr>\n",
              "    <tr>\n",
              "      <th>1</th>\n",
              "      <td>2015-11-18</td>\n",
              "      <td>6.122876</td>\n",
              "      <td>-0.016469</td>\n",
              "      <td>talk celebr divorc isl kolkata vs chennai free...</td>\n",
              "      <td>0.367319</td>\n",
              "      <td>0.056717</td>\n",
              "      <td>-0.9999</td>\n",
              "      <td>0.162</td>\n",
              "      <td>0.750</td>\n",
              "      <td>0.088</td>\n",
              "    </tr>\n",
              "    <tr>\n",
              "      <th>2</th>\n",
              "      <td>2015-11-19</td>\n",
              "      <td>6.146543</td>\n",
              "      <td>0.023667</td>\n",
              "      <td>intern men day thing men perfect indian spice ...</td>\n",
              "      <td>0.407112</td>\n",
              "      <td>0.121935</td>\n",
              "      <td>-0.9994</td>\n",
              "      <td>0.131</td>\n",
              "      <td>0.768</td>\n",
              "      <td>0.101</td>\n",
              "    </tr>\n",
              "    <tr>\n",
              "      <th>3</th>\n",
              "      <td>2015-11-20</td>\n",
              "      <td>6.159043</td>\n",
              "      <td>0.012499</td>\n",
              "      <td>food item keep away toddler eat curd night wor...</td>\n",
              "      <td>0.399060</td>\n",
              "      <td>0.116634</td>\n",
              "      <td>-0.9980</td>\n",
              "      <td>0.115</td>\n",
              "      <td>0.788</td>\n",
              "      <td>0.097</td>\n",
              "    </tr>\n",
              "    <tr>\n",
              "      <th>4</th>\n",
              "      <td>2015-11-23</td>\n",
              "      <td>6.165523</td>\n",
              "      <td>0.006480</td>\n",
              "      <td>herb battl diabet thing know sleep aamir khan ...</td>\n",
              "      <td>0.418888</td>\n",
              "      <td>0.104645</td>\n",
              "      <td>-0.9969</td>\n",
              "      <td>0.118</td>\n",
              "      <td>0.775</td>\n",
              "      <td>0.107</td>\n",
              "    </tr>\n",
              "    <tr>\n",
              "      <th>...</th>\n",
              "      <td>...</td>\n",
              "      <td>...</td>\n",
              "      <td>...</td>\n",
              "      <td>...</td>\n",
              "      <td>...</td>\n",
              "      <td>...</td>\n",
              "      <td>...</td>\n",
              "      <td>...</td>\n",
              "      <td>...</td>\n",
              "      <td>...</td>\n",
              "    </tr>\n",
              "    <tr>\n",
              "      <th>1130</th>\n",
              "      <td>2020-06-24</td>\n",
              "      <td>7.454344</td>\n",
              "      <td>0.004235</td>\n",
              "      <td>never thought voic today vidya rajput never th...</td>\n",
              "      <td>0.368654</td>\n",
              "      <td>0.077799</td>\n",
              "      <td>-0.9997</td>\n",
              "      <td>0.126</td>\n",
              "      <td>0.807</td>\n",
              "      <td>0.067</td>\n",
              "    </tr>\n",
              "    <tr>\n",
              "      <th>1131</th>\n",
              "      <td>2020-06-25</td>\n",
              "      <td>7.448887</td>\n",
              "      <td>-0.005457</td>\n",
              "      <td>truck firm look new export market sell bs rang...</td>\n",
              "      <td>0.362784</td>\n",
              "      <td>0.011935</td>\n",
              "      <td>-0.9999</td>\n",
              "      <td>0.153</td>\n",
              "      <td>0.795</td>\n",
              "      <td>0.052</td>\n",
              "    </tr>\n",
              "    <tr>\n",
              "      <th>1132</th>\n",
              "      <td>2020-06-26</td>\n",
              "      <td>7.463134</td>\n",
              "      <td>0.014247</td>\n",
              "      <td>contain zone resid slam high price charg veget...</td>\n",
              "      <td>0.330257</td>\n",
              "      <td>0.066958</td>\n",
              "      <td>-0.9998</td>\n",
              "      <td>0.142</td>\n",
              "      <td>0.789</td>\n",
              "      <td>0.069</td>\n",
              "    </tr>\n",
              "    <tr>\n",
              "      <th>1133</th>\n",
              "      <td>2020-06-29</td>\n",
              "      <td>7.451909</td>\n",
              "      <td>-0.011224</td>\n",
              "      <td>hot stylish bikini look katrina kaif anna eden...</td>\n",
              "      <td>0.373210</td>\n",
              "      <td>0.060782</td>\n",
              "      <td>-0.9998</td>\n",
              "      <td>0.130</td>\n",
              "      <td>0.800</td>\n",
              "      <td>0.070</td>\n",
              "    </tr>\n",
              "    <tr>\n",
              "      <th>1134</th>\n",
              "      <td>2020-06-30</td>\n",
              "      <td>7.440352</td>\n",
              "      <td>-0.011557</td>\n",
              "      <td>detect byomkesh bakshi edg tomorrow first look...</td>\n",
              "      <td>0.349361</td>\n",
              "      <td>0.059465</td>\n",
              "      <td>-0.9999</td>\n",
              "      <td>0.134</td>\n",
              "      <td>0.818</td>\n",
              "      <td>0.048</td>\n",
              "    </tr>\n",
              "  </tbody>\n",
              "</table>\n",
              "<p>1135 rows × 10 columns</p>\n",
              "</div>"
            ],
            "text/plain": [
              "           Date     Close   Returns  ... Negative  Neutral  Positive\n",
              "0    2015-11-17  6.139346 -0.005966  ...    0.138    0.767     0.095\n",
              "1    2015-11-18  6.122876 -0.016469  ...    0.162    0.750     0.088\n",
              "2    2015-11-19  6.146543  0.023667  ...    0.131    0.768     0.101\n",
              "3    2015-11-20  6.159043  0.012499  ...    0.115    0.788     0.097\n",
              "4    2015-11-23  6.165523  0.006480  ...    0.118    0.775     0.107\n",
              "...         ...       ...       ...  ...      ...      ...       ...\n",
              "1130 2020-06-24  7.454344  0.004235  ...    0.126    0.807     0.067\n",
              "1131 2020-06-25  7.448887 -0.005457  ...    0.153    0.795     0.052\n",
              "1132 2020-06-26  7.463134  0.014247  ...    0.142    0.789     0.069\n",
              "1133 2020-06-29  7.451909 -0.011224  ...    0.130    0.800     0.070\n",
              "1134 2020-06-30  7.440352 -0.011557  ...    0.134    0.818     0.048\n",
              "\n",
              "[1135 rows x 10 columns]"
            ]
          },
          "metadata": {
            "tags": []
          },
          "execution_count": 135
        }
      ]
    },
    {
      "cell_type": "code",
      "metadata": {
        "id": "0BbXp3M2Ypnc"
      },
      "source": [
        "df_merged.to_csv('main_file.csv')"
      ],
      "execution_count": null,
      "outputs": []
    },
    {
      "cell_type": "code",
      "metadata": {
        "id": "OMyEHnpReyc0",
        "outputId": "2274726f-e59c-4b3d-8188-3f6f15d68f9a",
        "colab": {
          "base_uri": "https://localhost:8080/"
        }
      },
      "source": [
        "from google.colab import drive\n",
        "drive.mount('drive')"
      ],
      "execution_count": 4,
      "outputs": [
        {
          "output_type": "stream",
          "text": [
            "Mounted at drive\n"
          ],
          "name": "stdout"
        }
      ]
    },
    {
      "cell_type": "code",
      "metadata": {
        "id": "cTxJ3mIHfJPJ"
      },
      "source": [
        "df_merged.to_csv('data.csv')\n",
        "!cp data.csv \"drive/My Drive/\""
      ],
      "execution_count": null,
      "outputs": []
    },
    {
      "cell_type": "code",
      "metadata": {
        "id": "bSVraMWAfT87"
      },
      "source": [
        "df_merged = pd.read_csv('drive/My Drive/Main_TSF.csv')"
      ],
      "execution_count": 7,
      "outputs": []
    },
    {
      "cell_type": "code",
      "metadata": {
        "id": "1sySDctIcdZ1",
        "outputId": "2d77bd07-0204-42dd-f677-c2310778b0ea",
        "colab": {
          "base_uri": "https://localhost:8080/",
          "height": 195
        }
      },
      "source": [
        "df_merged.head()"
      ],
      "execution_count": 8,
      "outputs": [
        {
          "output_type": "execute_result",
          "data": {
            "text/html": [
              "<div>\n",
              "<style scoped>\n",
              "    .dataframe tbody tr th:only-of-type {\n",
              "        vertical-align: middle;\n",
              "    }\n",
              "\n",
              "    .dataframe tbody tr th {\n",
              "        vertical-align: top;\n",
              "    }\n",
              "\n",
              "    .dataframe thead th {\n",
              "        text-align: right;\n",
              "    }\n",
              "</style>\n",
              "<table border=\"1\" class=\"dataframe\">\n",
              "  <thead>\n",
              "    <tr style=\"text-align: right;\">\n",
              "      <th></th>\n",
              "      <th>Unnamed: 0</th>\n",
              "      <th>Date</th>\n",
              "      <th>Close</th>\n",
              "      <th>Returns</th>\n",
              "      <th>News</th>\n",
              "      <th>Subjectivity</th>\n",
              "      <th>Polarity</th>\n",
              "      <th>Compound</th>\n",
              "      <th>Negative</th>\n",
              "      <th>Neutral</th>\n",
              "      <th>Positive</th>\n",
              "    </tr>\n",
              "  </thead>\n",
              "  <tbody>\n",
              "    <tr>\n",
              "      <th>0</th>\n",
              "      <td>0</td>\n",
              "      <td>2015-11-17</td>\n",
              "      <td>6.139346</td>\n",
              "      <td>-0.005966</td>\n",
              "      <td>healthi fridg quiz curiou case bollywood name ...</td>\n",
              "      <td>0.414518</td>\n",
              "      <td>0.061043</td>\n",
              "      <td>-0.9997</td>\n",
              "      <td>0.138</td>\n",
              "      <td>0.767</td>\n",
              "      <td>0.095</td>\n",
              "    </tr>\n",
              "    <tr>\n",
              "      <th>1</th>\n",
              "      <td>1</td>\n",
              "      <td>2015-11-18</td>\n",
              "      <td>6.122876</td>\n",
              "      <td>-0.016469</td>\n",
              "      <td>talk celebr divorc isl kolkata vs chennai free...</td>\n",
              "      <td>0.367319</td>\n",
              "      <td>0.056717</td>\n",
              "      <td>-0.9999</td>\n",
              "      <td>0.162</td>\n",
              "      <td>0.750</td>\n",
              "      <td>0.088</td>\n",
              "    </tr>\n",
              "    <tr>\n",
              "      <th>2</th>\n",
              "      <td>2</td>\n",
              "      <td>2015-11-19</td>\n",
              "      <td>6.146543</td>\n",
              "      <td>0.023667</td>\n",
              "      <td>intern men day thing men perfect indian spice ...</td>\n",
              "      <td>0.407112</td>\n",
              "      <td>0.121935</td>\n",
              "      <td>-0.9994</td>\n",
              "      <td>0.131</td>\n",
              "      <td>0.768</td>\n",
              "      <td>0.101</td>\n",
              "    </tr>\n",
              "    <tr>\n",
              "      <th>3</th>\n",
              "      <td>3</td>\n",
              "      <td>2015-11-20</td>\n",
              "      <td>6.159043</td>\n",
              "      <td>0.012499</td>\n",
              "      <td>food item keep away toddler eat curd night wor...</td>\n",
              "      <td>0.399060</td>\n",
              "      <td>0.116634</td>\n",
              "      <td>-0.9980</td>\n",
              "      <td>0.115</td>\n",
              "      <td>0.788</td>\n",
              "      <td>0.097</td>\n",
              "    </tr>\n",
              "    <tr>\n",
              "      <th>4</th>\n",
              "      <td>4</td>\n",
              "      <td>2015-11-23</td>\n",
              "      <td>6.165523</td>\n",
              "      <td>0.006480</td>\n",
              "      <td>herb battl diabet thing know sleep aamir khan ...</td>\n",
              "      <td>0.418888</td>\n",
              "      <td>0.104645</td>\n",
              "      <td>-0.9969</td>\n",
              "      <td>0.118</td>\n",
              "      <td>0.775</td>\n",
              "      <td>0.107</td>\n",
              "    </tr>\n",
              "  </tbody>\n",
              "</table>\n",
              "</div>"
            ],
            "text/plain": [
              "   Unnamed: 0        Date     Close  ...  Negative Neutral  Positive\n",
              "0           0  2015-11-17  6.139346  ...     0.138   0.767     0.095\n",
              "1           1  2015-11-18  6.122876  ...     0.162   0.750     0.088\n",
              "2           2  2015-11-19  6.146543  ...     0.131   0.768     0.101\n",
              "3           3  2015-11-20  6.159043  ...     0.115   0.788     0.097\n",
              "4           4  2015-11-23  6.165523  ...     0.118   0.775     0.107\n",
              "\n",
              "[5 rows x 11 columns]"
            ]
          },
          "metadata": {
            "tags": []
          },
          "execution_count": 8
        }
      ]
    },
    {
      "cell_type": "code",
      "metadata": {
        "id": "6sMd84OAc3i_",
        "outputId": "c27a936c-fa0c-475b-b588-b49276095bdf",
        "colab": {
          "base_uri": "https://localhost:8080/",
          "height": 402
        }
      },
      "source": [
        "df_merged.drop('Unnamed: 0', 1, inplace = True)\n",
        "df_merged"
      ],
      "execution_count": 9,
      "outputs": [
        {
          "output_type": "execute_result",
          "data": {
            "text/html": [
              "<div>\n",
              "<style scoped>\n",
              "    .dataframe tbody tr th:only-of-type {\n",
              "        vertical-align: middle;\n",
              "    }\n",
              "\n",
              "    .dataframe tbody tr th {\n",
              "        vertical-align: top;\n",
              "    }\n",
              "\n",
              "    .dataframe thead th {\n",
              "        text-align: right;\n",
              "    }\n",
              "</style>\n",
              "<table border=\"1\" class=\"dataframe\">\n",
              "  <thead>\n",
              "    <tr style=\"text-align: right;\">\n",
              "      <th></th>\n",
              "      <th>Date</th>\n",
              "      <th>Close</th>\n",
              "      <th>Returns</th>\n",
              "      <th>News</th>\n",
              "      <th>Subjectivity</th>\n",
              "      <th>Polarity</th>\n",
              "      <th>Compound</th>\n",
              "      <th>Negative</th>\n",
              "      <th>Neutral</th>\n",
              "      <th>Positive</th>\n",
              "    </tr>\n",
              "  </thead>\n",
              "  <tbody>\n",
              "    <tr>\n",
              "      <th>0</th>\n",
              "      <td>2015-11-17</td>\n",
              "      <td>6.139346</td>\n",
              "      <td>-0.005966</td>\n",
              "      <td>healthi fridg quiz curiou case bollywood name ...</td>\n",
              "      <td>0.414518</td>\n",
              "      <td>0.061043</td>\n",
              "      <td>-0.9997</td>\n",
              "      <td>0.138</td>\n",
              "      <td>0.767</td>\n",
              "      <td>0.095</td>\n",
              "    </tr>\n",
              "    <tr>\n",
              "      <th>1</th>\n",
              "      <td>2015-11-18</td>\n",
              "      <td>6.122876</td>\n",
              "      <td>-0.016469</td>\n",
              "      <td>talk celebr divorc isl kolkata vs chennai free...</td>\n",
              "      <td>0.367319</td>\n",
              "      <td>0.056717</td>\n",
              "      <td>-0.9999</td>\n",
              "      <td>0.162</td>\n",
              "      <td>0.750</td>\n",
              "      <td>0.088</td>\n",
              "    </tr>\n",
              "    <tr>\n",
              "      <th>2</th>\n",
              "      <td>2015-11-19</td>\n",
              "      <td>6.146543</td>\n",
              "      <td>0.023667</td>\n",
              "      <td>intern men day thing men perfect indian spice ...</td>\n",
              "      <td>0.407112</td>\n",
              "      <td>0.121935</td>\n",
              "      <td>-0.9994</td>\n",
              "      <td>0.131</td>\n",
              "      <td>0.768</td>\n",
              "      <td>0.101</td>\n",
              "    </tr>\n",
              "    <tr>\n",
              "      <th>3</th>\n",
              "      <td>2015-11-20</td>\n",
              "      <td>6.159043</td>\n",
              "      <td>0.012499</td>\n",
              "      <td>food item keep away toddler eat curd night wor...</td>\n",
              "      <td>0.399060</td>\n",
              "      <td>0.116634</td>\n",
              "      <td>-0.9980</td>\n",
              "      <td>0.115</td>\n",
              "      <td>0.788</td>\n",
              "      <td>0.097</td>\n",
              "    </tr>\n",
              "    <tr>\n",
              "      <th>4</th>\n",
              "      <td>2015-11-23</td>\n",
              "      <td>6.165523</td>\n",
              "      <td>0.006480</td>\n",
              "      <td>herb battl diabet thing know sleep aamir khan ...</td>\n",
              "      <td>0.418888</td>\n",
              "      <td>0.104645</td>\n",
              "      <td>-0.9969</td>\n",
              "      <td>0.118</td>\n",
              "      <td>0.775</td>\n",
              "      <td>0.107</td>\n",
              "    </tr>\n",
              "    <tr>\n",
              "      <th>...</th>\n",
              "      <td>...</td>\n",
              "      <td>...</td>\n",
              "      <td>...</td>\n",
              "      <td>...</td>\n",
              "      <td>...</td>\n",
              "      <td>...</td>\n",
              "      <td>...</td>\n",
              "      <td>...</td>\n",
              "      <td>...</td>\n",
              "      <td>...</td>\n",
              "    </tr>\n",
              "    <tr>\n",
              "      <th>1130</th>\n",
              "      <td>2020-06-24</td>\n",
              "      <td>7.454344</td>\n",
              "      <td>0.004235</td>\n",
              "      <td>never thought voic today vidya rajput never th...</td>\n",
              "      <td>0.368654</td>\n",
              "      <td>0.077799</td>\n",
              "      <td>-0.9997</td>\n",
              "      <td>0.126</td>\n",
              "      <td>0.807</td>\n",
              "      <td>0.067</td>\n",
              "    </tr>\n",
              "    <tr>\n",
              "      <th>1131</th>\n",
              "      <td>2020-06-25</td>\n",
              "      <td>7.448887</td>\n",
              "      <td>-0.005457</td>\n",
              "      <td>truck firm look new export market sell bs rang...</td>\n",
              "      <td>0.362784</td>\n",
              "      <td>0.011935</td>\n",
              "      <td>-0.9999</td>\n",
              "      <td>0.153</td>\n",
              "      <td>0.795</td>\n",
              "      <td>0.052</td>\n",
              "    </tr>\n",
              "    <tr>\n",
              "      <th>1132</th>\n",
              "      <td>2020-06-26</td>\n",
              "      <td>7.463134</td>\n",
              "      <td>0.014247</td>\n",
              "      <td>contain zone resid slam high price charg veget...</td>\n",
              "      <td>0.330257</td>\n",
              "      <td>0.066958</td>\n",
              "      <td>-0.9998</td>\n",
              "      <td>0.142</td>\n",
              "      <td>0.789</td>\n",
              "      <td>0.069</td>\n",
              "    </tr>\n",
              "    <tr>\n",
              "      <th>1133</th>\n",
              "      <td>2020-06-29</td>\n",
              "      <td>7.451909</td>\n",
              "      <td>-0.011224</td>\n",
              "      <td>hot stylish bikini look katrina kaif anna eden...</td>\n",
              "      <td>0.373210</td>\n",
              "      <td>0.060782</td>\n",
              "      <td>-0.9998</td>\n",
              "      <td>0.130</td>\n",
              "      <td>0.800</td>\n",
              "      <td>0.070</td>\n",
              "    </tr>\n",
              "    <tr>\n",
              "      <th>1134</th>\n",
              "      <td>2020-06-30</td>\n",
              "      <td>7.440352</td>\n",
              "      <td>-0.011557</td>\n",
              "      <td>detect byomkesh bakshi edg tomorrow first look...</td>\n",
              "      <td>0.349361</td>\n",
              "      <td>0.059465</td>\n",
              "      <td>-0.9999</td>\n",
              "      <td>0.134</td>\n",
              "      <td>0.818</td>\n",
              "      <td>0.048</td>\n",
              "    </tr>\n",
              "  </tbody>\n",
              "</table>\n",
              "<p>1135 rows × 10 columns</p>\n",
              "</div>"
            ],
            "text/plain": [
              "            Date     Close   Returns  ... Negative  Neutral  Positive\n",
              "0     2015-11-17  6.139346 -0.005966  ...    0.138    0.767     0.095\n",
              "1     2015-11-18  6.122876 -0.016469  ...    0.162    0.750     0.088\n",
              "2     2015-11-19  6.146543  0.023667  ...    0.131    0.768     0.101\n",
              "3     2015-11-20  6.159043  0.012499  ...    0.115    0.788     0.097\n",
              "4     2015-11-23  6.165523  0.006480  ...    0.118    0.775     0.107\n",
              "...          ...       ...       ...  ...      ...      ...       ...\n",
              "1130  2020-06-24  7.454344  0.004235  ...    0.126    0.807     0.067\n",
              "1131  2020-06-25  7.448887 -0.005457  ...    0.153    0.795     0.052\n",
              "1132  2020-06-26  7.463134  0.014247  ...    0.142    0.789     0.069\n",
              "1133  2020-06-29  7.451909 -0.011224  ...    0.130    0.800     0.070\n",
              "1134  2020-06-30  7.440352 -0.011557  ...    0.134    0.818     0.048\n",
              "\n",
              "[1135 rows x 10 columns]"
            ]
          },
          "metadata": {
            "tags": []
          },
          "execution_count": 9
        }
      ]
    },
    {
      "cell_type": "markdown",
      "metadata": {
        "id": "CvXIdG6ayLln"
      },
      "source": [
        "### **Histogram Plots of the sentiments**"
      ]
    },
    {
      "cell_type": "code",
      "metadata": {
        "id": "Q7suzqhoc9R8",
        "outputId": "00624bc7-4ceb-4ccb-9744-267b4fbf84f2",
        "colab": {
          "base_uri": "https://localhost:8080/",
          "height": 443
        }
      },
      "source": [
        "plt.style.use('seaborn')\n",
        "plt.figure(figsize=(10,7))\n",
        "df_merged['Polarity'].plot(kind = 'hist', color = 'b')\n",
        "plt.title('Polarity')\n",
        "plt.show()"
      ],
      "execution_count": 45,
      "outputs": [
        {
          "output_type": "display_data",
          "data": {
            "image/png": "[encoded data removed]",
            "text/plain": [
              "<Figure size 720x504 with 1 Axes>"
            ]
          },
          "metadata": {
            "tags": []
          }
        }
      ]
    },
    {
      "cell_type": "code",
      "metadata": {
        "id": "e_TVDCMGh-w2",
        "outputId": "b636ef86-3cf2-40d3-874f-a53d95819807",
        "colab": {
          "base_uri": "https://localhost:8080/",
          "height": 443
        }
      },
      "source": [
        "plt.style.use('seaborn')\n",
        "plt.figure(figsize=(10,7))\n",
        "df_merged['Subjectivity'].plot(kind = 'hist', color = 'r')\n",
        "plt.title('Subjectivity')\n",
        "plt.show()"
      ],
      "execution_count": 46,
      "outputs": [
        {
          "output_type": "display_data",
          "data": {
            "image/png": "[encoded data removed]",
            "text/plain": [
              "<Figure size 720x504 with 1 Axes>"
            ]
          },
          "metadata": {
            "tags": []
          }
        }
      ]
    },
    {
      "cell_type": "code",
      "metadata": {
        "id": "t1bfPlqOje0O",
        "outputId": "00c68bc2-3212-4a42-805b-f8b8ad5e63f2",
        "colab": {
          "base_uri": "https://localhost:8080/",
          "height": 443
        }
      },
      "source": [
        "plt.style.use('seaborn')\n",
        "plt.figure(figsize=(10,7))\n",
        "df_merged['Neutral'].plot(kind = 'hist', color = 'b')\n",
        "plt.title('Neutrality')\n",
        "plt.show()"
      ],
      "execution_count": 47,
      "outputs": [
        {
          "output_type": "display_data",
          "data": {
            "image/png": "[encoded data removed]",
            "text/plain": [
              "<Figure size 720x504 with 1 Axes>"
            ]
          },
          "metadata": {
            "tags": []
          }
        }
      ]
    },
    {
      "cell_type": "code",
      "metadata": {
        "id": "8rfFE6lBjj3c",
        "outputId": "68f3cd0e-609c-4079-f834-efa4ec080a7b",
        "colab": {
          "base_uri": "https://localhost:8080/",
          "height": 402
        }
      },
      "source": [
        "df = df_merged[['Close','Subjectivity','Polarity','Neutral','Positive','Negative','Compound']]\n",
        "df"
      ],
      "execution_count": 21,
      "outputs": [
        {
          "output_type": "execute_result",
          "data": {
            "text/html": [
              "<div>\n",
              "<style scoped>\n",
              "    .dataframe tbody tr th:only-of-type {\n",
              "        vertical-align: middle;\n",
              "    }\n",
              "\n",
              "    .dataframe tbody tr th {\n",
              "        vertical-align: top;\n",
              "    }\n",
              "\n",
              "    .dataframe thead th {\n",
              "        text-align: right;\n",
              "    }\n",
              "</style>\n",
              "<table border=\"1\" class=\"dataframe\">\n",
              "  <thead>\n",
              "    <tr style=\"text-align: right;\">\n",
              "      <th></th>\n",
              "      <th>Close</th>\n",
              "      <th>Subjectivity</th>\n",
              "      <th>Polarity</th>\n",
              "      <th>Neutral</th>\n",
              "      <th>Positive</th>\n",
              "      <th>Negative</th>\n",
              "      <th>Compound</th>\n",
              "    </tr>\n",
              "  </thead>\n",
              "  <tbody>\n",
              "    <tr>\n",
              "      <th>0</th>\n",
              "      <td>6.139346</td>\n",
              "      <td>0.414518</td>\n",
              "      <td>0.061043</td>\n",
              "      <td>0.767</td>\n",
              "      <td>0.095</td>\n",
              "      <td>0.138</td>\n",
              "      <td>-0.9997</td>\n",
              "    </tr>\n",
              "    <tr>\n",
              "      <th>1</th>\n",
              "      <td>6.122876</td>\n",
              "      <td>0.367319</td>\n",
              "      <td>0.056717</td>\n",
              "      <td>0.750</td>\n",
              "      <td>0.088</td>\n",
              "      <td>0.162</td>\n",
              "      <td>-0.9999</td>\n",
              "    </tr>\n",
              "    <tr>\n",
              "      <th>2</th>\n",
              "      <td>6.146543</td>\n",
              "      <td>0.407112</td>\n",
              "      <td>0.121935</td>\n",
              "      <td>0.768</td>\n",
              "      <td>0.101</td>\n",
              "      <td>0.131</td>\n",
              "      <td>-0.9994</td>\n",
              "    </tr>\n",
              "    <tr>\n",
              "      <th>3</th>\n",
              "      <td>6.159043</td>\n",
              "      <td>0.399060</td>\n",
              "      <td>0.116634</td>\n",
              "      <td>0.788</td>\n",
              "      <td>0.097</td>\n",
              "      <td>0.115</td>\n",
              "      <td>-0.9980</td>\n",
              "    </tr>\n",
              "    <tr>\n",
              "      <th>4</th>\n",
              "      <td>6.165523</td>\n",
              "      <td>0.418888</td>\n",
              "      <td>0.104645</td>\n",
              "      <td>0.775</td>\n",
              "      <td>0.107</td>\n",
              "      <td>0.118</td>\n",
              "      <td>-0.9969</td>\n",
              "    </tr>\n",
              "    <tr>\n",
              "      <th>...</th>\n",
              "      <td>...</td>\n",
              "      <td>...</td>\n",
              "      <td>...</td>\n",
              "      <td>...</td>\n",
              "      <td>...</td>\n",
              "      <td>...</td>\n",
              "      <td>...</td>\n",
              "    </tr>\n",
              "    <tr>\n",
              "      <th>1130</th>\n",
              "      <td>7.454344</td>\n",
              "      <td>0.368654</td>\n",
              "      <td>0.077799</td>\n",
              "      <td>0.807</td>\n",
              "      <td>0.067</td>\n",
              "      <td>0.126</td>\n",
              "      <td>-0.9997</td>\n",
              "    </tr>\n",
              "    <tr>\n",
              "      <th>1131</th>\n",
              "      <td>7.448887</td>\n",
              "      <td>0.362784</td>\n",
              "      <td>0.011935</td>\n",
              "      <td>0.795</td>\n",
              "      <td>0.052</td>\n",
              "      <td>0.153</td>\n",
              "      <td>-0.9999</td>\n",
              "    </tr>\n",
              "    <tr>\n",
              "      <th>1132</th>\n",
              "      <td>7.463134</td>\n",
              "      <td>0.330257</td>\n",
              "      <td>0.066958</td>\n",
              "      <td>0.789</td>\n",
              "      <td>0.069</td>\n",
              "      <td>0.142</td>\n",
              "      <td>-0.9998</td>\n",
              "    </tr>\n",
              "    <tr>\n",
              "      <th>1133</th>\n",
              "      <td>7.451909</td>\n",
              "      <td>0.373210</td>\n",
              "      <td>0.060782</td>\n",
              "      <td>0.800</td>\n",
              "      <td>0.070</td>\n",
              "      <td>0.130</td>\n",
              "      <td>-0.9998</td>\n",
              "    </tr>\n",
              "    <tr>\n",
              "      <th>1134</th>\n",
              "      <td>7.440352</td>\n",
              "      <td>0.349361</td>\n",
              "      <td>0.059465</td>\n",
              "      <td>0.818</td>\n",
              "      <td>0.048</td>\n",
              "      <td>0.134</td>\n",
              "      <td>-0.9999</td>\n",
              "    </tr>\n",
              "  </tbody>\n",
              "</table>\n",
              "<p>1135 rows × 7 columns</p>\n",
              "</div>"
            ],
            "text/plain": [
              "         Close  Subjectivity  Polarity  Neutral  Positive  Negative  Compound\n",
              "0     6.139346      0.414518  0.061043    0.767     0.095     0.138   -0.9997\n",
              "1     6.122876      0.367319  0.056717    0.750     0.088     0.162   -0.9999\n",
              "2     6.146543      0.407112  0.121935    0.768     0.101     0.131   -0.9994\n",
              "3     6.159043      0.399060  0.116634    0.788     0.097     0.115   -0.9980\n",
              "4     6.165523      0.418888  0.104645    0.775     0.107     0.118   -0.9969\n",
              "...        ...           ...       ...      ...       ...       ...       ...\n",
              "1130  7.454344      0.368654  0.077799    0.807     0.067     0.126   -0.9997\n",
              "1131  7.448887      0.362784  0.011935    0.795     0.052     0.153   -0.9999\n",
              "1132  7.463134      0.330257  0.066958    0.789     0.069     0.142   -0.9998\n",
              "1133  7.451909      0.373210  0.060782    0.800     0.070     0.130   -0.9998\n",
              "1134  7.440352      0.349361  0.059465    0.818     0.048     0.134   -0.9999\n",
              "\n",
              "[1135 rows x 7 columns]"
            ]
          },
          "metadata": {
            "tags": []
          },
          "execution_count": 21
        }
      ]
    },
    {
      "cell_type": "code",
      "metadata": {
        "id": "R2uU0pilkMTa"
      },
      "source": [
        "from sklearn.preprocessing import MinMaxScaler"
      ],
      "execution_count": 22,
      "outputs": []
    },
    {
      "cell_type": "code",
      "metadata": {
        "id": "DXuGyF-LlnT8",
        "outputId": "ca687180-3d53-4cc0-bc9e-f13e8f3c25d3",
        "colab": {
          "base_uri": "https://localhost:8080/",
          "height": 195
        }
      },
      "source": [
        "scaler = MinMaxScaler()\n",
        "sentiment = pd.DataFrame(scaler.fit_transform(df))\n",
        "sentiment.columns = df.columns\n",
        "sentiment.index = df.index\n",
        "sentiment.head()"
      ],
      "execution_count": 23,
      "outputs": [
        {
          "output_type": "execute_result",
          "data": {
            "text/html": [
              "<div>\n",
              "<style scoped>\n",
              "    .dataframe tbody tr th:only-of-type {\n",
              "        vertical-align: middle;\n",
              "    }\n",
              "\n",
              "    .dataframe tbody tr th {\n",
              "        vertical-align: top;\n",
              "    }\n",
              "\n",
              "    .dataframe thead th {\n",
              "        text-align: right;\n",
              "    }\n",
              "</style>\n",
              "<table border=\"1\" class=\"dataframe\">\n",
              "  <thead>\n",
              "    <tr style=\"text-align: right;\">\n",
              "      <th></th>\n",
              "      <th>Close</th>\n",
              "      <th>Subjectivity</th>\n",
              "      <th>Polarity</th>\n",
              "      <th>Neutral</th>\n",
              "      <th>Positive</th>\n",
              "      <th>Negative</th>\n",
              "      <th>Compound</th>\n",
              "    </tr>\n",
              "  </thead>\n",
              "  <tbody>\n",
              "    <tr>\n",
              "      <th>0</th>\n",
              "      <td>0.017045</td>\n",
              "      <td>0.437751</td>\n",
              "      <td>0.233305</td>\n",
              "      <td>0.316239</td>\n",
              "      <td>0.5875</td>\n",
              "      <td>0.509804</td>\n",
              "      <td>0.000151</td>\n",
              "    </tr>\n",
              "    <tr>\n",
              "      <th>1</th>\n",
              "      <td>0.004905</td>\n",
              "      <td>0.229259</td>\n",
              "      <td>0.219733</td>\n",
              "      <td>0.170940</td>\n",
              "      <td>0.5000</td>\n",
              "      <td>0.745098</td>\n",
              "      <td>0.000050</td>\n",
              "    </tr>\n",
              "    <tr>\n",
              "      <th>2</th>\n",
              "      <td>0.022351</td>\n",
              "      <td>0.405037</td>\n",
              "      <td>0.424327</td>\n",
              "      <td>0.324786</td>\n",
              "      <td>0.6625</td>\n",
              "      <td>0.441176</td>\n",
              "      <td>0.000301</td>\n",
              "    </tr>\n",
              "    <tr>\n",
              "      <th>3</th>\n",
              "      <td>0.031565</td>\n",
              "      <td>0.369469</td>\n",
              "      <td>0.407696</td>\n",
              "      <td>0.495726</td>\n",
              "      <td>0.6125</td>\n",
              "      <td>0.284314</td>\n",
              "      <td>0.001003</td>\n",
              "    </tr>\n",
              "    <tr>\n",
              "      <th>4</th>\n",
              "      <td>0.036342</td>\n",
              "      <td>0.457058</td>\n",
              "      <td>0.370085</td>\n",
              "      <td>0.384615</td>\n",
              "      <td>0.7375</td>\n",
              "      <td>0.313725</td>\n",
              "      <td>0.001555</td>\n",
              "    </tr>\n",
              "  </tbody>\n",
              "</table>\n",
              "</div>"
            ],
            "text/plain": [
              "      Close  Subjectivity  Polarity   Neutral  Positive  Negative  Compound\n",
              "0  0.017045      0.437751  0.233305  0.316239    0.5875  0.509804  0.000151\n",
              "1  0.004905      0.229259  0.219733  0.170940    0.5000  0.745098  0.000050\n",
              "2  0.022351      0.405037  0.424327  0.324786    0.6625  0.441176  0.000301\n",
              "3  0.031565      0.369469  0.407696  0.495726    0.6125  0.284314  0.001003\n",
              "4  0.036342      0.457058  0.370085  0.384615    0.7375  0.313725  0.001555"
            ]
          },
          "metadata": {
            "tags": []
          },
          "execution_count": 23
        }
      ]
    },
    {
      "cell_type": "code",
      "metadata": {
        "id": "ypdPd4abl6Bw"
      },
      "source": [
        "X = sentiment.drop('Close', 1)\n",
        "y = sentiment['Close']"
      ],
      "execution_count": 24,
      "outputs": []
    },
    {
      "cell_type": "code",
      "metadata": {
        "id": "dEXf7VKfmKKe",
        "outputId": "0cedaf08-a1f7-4c0d-f469-7d12fc2c4fe9",
        "colab": {
          "base_uri": "https://localhost:8080/"
        }
      },
      "source": [
        "print(X.head())\n",
        "print(y.head())"
      ],
      "execution_count": 25,
      "outputs": [
        {
          "output_type": "stream",
          "text": [
            "   Subjectivity  Polarity   Neutral  Positive  Negative  Compound\n",
            "0      0.437751  0.233305  0.316239    0.5875  0.509804  0.000151\n",
            "1      0.229259  0.219733  0.170940    0.5000  0.745098  0.000050\n",
            "2      0.405037  0.424327  0.324786    0.6625  0.441176  0.000301\n",
            "3      0.369469  0.407696  0.495726    0.6125  0.284314  0.001003\n",
            "4      0.457058  0.370085  0.384615    0.7375  0.313725  0.001555\n",
            "0    0.017045\n",
            "1    0.004905\n",
            "2    0.022351\n",
            "3    0.031565\n",
            "4    0.036342\n",
            "Name: Close, dtype: float64\n"
          ],
          "name": "stdout"
        }
      ]
    },
    {
      "cell_type": "markdown",
      "metadata": {
        "id": "gaQ8VGXtwysB"
      },
      "source": [
        "### **Split the data into training and testing**"
      ]
    },
    {
      "cell_type": "code",
      "metadata": {
        "id": "oDmgibPTmOSa"
      },
      "source": [
        "X_train, X_test, y_train, y_test = train_test_split(X, y, test_size = 0.2, random_state = 42)"
      ],
      "execution_count": 26,
      "outputs": []
    },
    {
      "cell_type": "code",
      "metadata": {
        "id": "C22ltfAmmdrz",
        "outputId": "e1a94a85-b210-4dbf-d1ca-e0555232f355",
        "colab": {
          "base_uri": "https://localhost:8080/"
        }
      },
      "source": [
        "X_train.shape"
      ],
      "execution_count": 27,
      "outputs": [
        {
          "output_type": "execute_result",
          "data": {
            "text/plain": [
              "(908, 6)"
            ]
          },
          "metadata": {
            "tags": []
          },
          "execution_count": 27
        }
      ]
    },
    {
      "cell_type": "code",
      "metadata": {
        "id": "EMUYMyNxme7j",
        "outputId": "cef1dc6b-14da-4779-9bdb-61f87fc26cec",
        "colab": {
          "base_uri": "https://localhost:8080/"
        }
      },
      "source": [
        "y_train.shape"
      ],
      "execution_count": 28,
      "outputs": [
        {
          "output_type": "execute_result",
          "data": {
            "text/plain": [
              "(908,)"
            ]
          },
          "metadata": {
            "tags": []
          },
          "execution_count": 28
        }
      ]
    },
    {
      "cell_type": "code",
      "metadata": {
        "id": "Eb3j1WH5mgvl",
        "outputId": "88f27deb-f71d-4ea6-98d2-0e6d8ef2dd23",
        "colab": {
          "base_uri": "https://localhost:8080/"
        }
      },
      "source": [
        "X_test.shape"
      ],
      "execution_count": 29,
      "outputs": [
        {
          "output_type": "execute_result",
          "data": {
            "text/plain": [
              "(227, 6)"
            ]
          },
          "metadata": {
            "tags": []
          },
          "execution_count": 29
        }
      ]
    },
    {
      "cell_type": "code",
      "metadata": {
        "id": "9ie2zIy7mjSX",
        "outputId": "29e7512e-57a4-4a5d-bcd9-9eef8a964f80",
        "colab": {
          "base_uri": "https://localhost:8080/",
          "height": 1000
        }
      },
      "source": [
        "X_train[:40]"
      ],
      "execution_count": 30,
      "outputs": [
        {
          "output_type": "execute_result",
          "data": {
            "text/html": [
              "<div>\n",
              "<style scoped>\n",
              "    .dataframe tbody tr th:only-of-type {\n",
              "        vertical-align: middle;\n",
              "    }\n",
              "\n",
              "    .dataframe tbody tr th {\n",
              "        vertical-align: top;\n",
              "    }\n",
              "\n",
              "    .dataframe thead th {\n",
              "        text-align: right;\n",
              "    }\n",
              "</style>\n",
              "<table border=\"1\" class=\"dataframe\">\n",
              "  <thead>\n",
              "    <tr style=\"text-align: right;\">\n",
              "      <th></th>\n",
              "      <th>Subjectivity</th>\n",
              "      <th>Polarity</th>\n",
              "      <th>Neutral</th>\n",
              "      <th>Positive</th>\n",
              "      <th>Negative</th>\n",
              "      <th>Compound</th>\n",
              "    </tr>\n",
              "  </thead>\n",
              "  <tbody>\n",
              "    <tr>\n",
              "      <th>12</th>\n",
              "      <td>0.558682</td>\n",
              "      <td>0.309243</td>\n",
              "      <td>0.504274</td>\n",
              "      <td>0.6625</td>\n",
              "      <td>0.235294</td>\n",
              "      <td>0.003863</td>\n",
              "    </tr>\n",
              "    <tr>\n",
              "      <th>381</th>\n",
              "      <td>0.364782</td>\n",
              "      <td>0.280786</td>\n",
              "      <td>0.162393</td>\n",
              "      <td>0.7500</td>\n",
              "      <td>0.558824</td>\n",
              "      <td>0.000151</td>\n",
              "    </tr>\n",
              "    <tr>\n",
              "      <th>717</th>\n",
              "      <td>0.328143</td>\n",
              "      <td>0.281825</td>\n",
              "      <td>0.495726</td>\n",
              "      <td>0.3000</td>\n",
              "      <td>0.529412</td>\n",
              "      <td>0.000050</td>\n",
              "    </tr>\n",
              "    <tr>\n",
              "      <th>497</th>\n",
              "      <td>0.216516</td>\n",
              "      <td>0.281077</td>\n",
              "      <td>0.264957</td>\n",
              "      <td>0.4000</td>\n",
              "      <td>0.715686</td>\n",
              "      <td>0.000050</td>\n",
              "    </tr>\n",
              "    <tr>\n",
              "      <th>967</th>\n",
              "      <td>0.590373</td>\n",
              "      <td>0.526941</td>\n",
              "      <td>0.598291</td>\n",
              "      <td>0.3375</td>\n",
              "      <td>0.382353</td>\n",
              "      <td>0.000151</td>\n",
              "    </tr>\n",
              "    <tr>\n",
              "      <th>538</th>\n",
              "      <td>0.454200</td>\n",
              "      <td>0.285979</td>\n",
              "      <td>0.401709</td>\n",
              "      <td>0.4125</td>\n",
              "      <td>0.549020</td>\n",
              "      <td>0.000050</td>\n",
              "    </tr>\n",
              "    <tr>\n",
              "      <th>724</th>\n",
              "      <td>0.430556</td>\n",
              "      <td>0.248813</td>\n",
              "      <td>0.410256</td>\n",
              "      <td>0.3500</td>\n",
              "      <td>0.578431</td>\n",
              "      <td>0.000050</td>\n",
              "    </tr>\n",
              "    <tr>\n",
              "      <th>984</th>\n",
              "      <td>0.295002</td>\n",
              "      <td>0.293188</td>\n",
              "      <td>0.452991</td>\n",
              "      <td>0.4000</td>\n",
              "      <td>0.500000</td>\n",
              "      <td>0.000100</td>\n",
              "    </tr>\n",
              "    <tr>\n",
              "      <th>787</th>\n",
              "      <td>0.157880</td>\n",
              "      <td>0.364884</td>\n",
              "      <td>0.393162</td>\n",
              "      <td>0.3875</td>\n",
              "      <td>0.588235</td>\n",
              "      <td>0.000100</td>\n",
              "    </tr>\n",
              "    <tr>\n",
              "      <th>184</th>\n",
              "      <td>0.300009</td>\n",
              "      <td>0.336804</td>\n",
              "      <td>0.444444</td>\n",
              "      <td>0.5875</td>\n",
              "      <td>0.362745</td>\n",
              "      <td>0.000251</td>\n",
              "    </tr>\n",
              "    <tr>\n",
              "      <th>722</th>\n",
              "      <td>0.534140</td>\n",
              "      <td>0.506000</td>\n",
              "      <td>0.589744</td>\n",
              "      <td>0.5875</td>\n",
              "      <td>0.196078</td>\n",
              "      <td>0.001756</td>\n",
              "    </tr>\n",
              "    <tr>\n",
              "      <th>1002</th>\n",
              "      <td>0.211618</td>\n",
              "      <td>0.158242</td>\n",
              "      <td>0.401709</td>\n",
              "      <td>0.1875</td>\n",
              "      <td>0.715686</td>\n",
              "      <td>0.000050</td>\n",
              "    </tr>\n",
              "    <tr>\n",
              "      <th>872</th>\n",
              "      <td>0.063840</td>\n",
              "      <td>0.219895</td>\n",
              "      <td>0.376068</td>\n",
              "      <td>0.3250</td>\n",
              "      <td>0.656863</td>\n",
              "      <td>0.000050</td>\n",
              "    </tr>\n",
              "    <tr>\n",
              "      <th>1079</th>\n",
              "      <td>0.205825</td>\n",
              "      <td>0.150644</td>\n",
              "      <td>0.769231</td>\n",
              "      <td>0.3000</td>\n",
              "      <td>0.215686</td>\n",
              "      <td>0.000401</td>\n",
              "    </tr>\n",
              "    <tr>\n",
              "      <th>666</th>\n",
              "      <td>0.306661</td>\n",
              "      <td>0.121929</td>\n",
              "      <td>0.461538</td>\n",
              "      <td>0.2375</td>\n",
              "      <td>0.617647</td>\n",
              "      <td>0.000050</td>\n",
              "    </tr>\n",
              "    <tr>\n",
              "      <th>892</th>\n",
              "      <td>0.238671</td>\n",
              "      <td>0.149051</td>\n",
              "      <td>0.470085</td>\n",
              "      <td>0.3375</td>\n",
              "      <td>0.529412</td>\n",
              "      <td>0.000100</td>\n",
              "    </tr>\n",
              "    <tr>\n",
              "      <th>344</th>\n",
              "      <td>0.282805</td>\n",
              "      <td>0.259494</td>\n",
              "      <td>0.358974</td>\n",
              "      <td>0.4250</td>\n",
              "      <td>0.588235</td>\n",
              "      <td>0.000050</td>\n",
              "    </tr>\n",
              "    <tr>\n",
              "      <th>1059</th>\n",
              "      <td>0.168535</td>\n",
              "      <td>0.160442</td>\n",
              "      <td>0.410256</td>\n",
              "      <td>0.2375</td>\n",
              "      <td>0.676471</td>\n",
              "      <td>0.000050</td>\n",
              "    </tr>\n",
              "    <tr>\n",
              "      <th>873</th>\n",
              "      <td>0.336229</td>\n",
              "      <td>0.344868</td>\n",
              "      <td>0.341880</td>\n",
              "      <td>0.3125</td>\n",
              "      <td>0.696078</td>\n",
              "      <td>0.000050</td>\n",
              "    </tr>\n",
              "    <tr>\n",
              "      <th>567</th>\n",
              "      <td>0.132074</td>\n",
              "      <td>0.298016</td>\n",
              "      <td>0.153846</td>\n",
              "      <td>0.5500</td>\n",
              "      <td>0.725490</td>\n",
              "      <td>0.000050</td>\n",
              "    </tr>\n",
              "    <tr>\n",
              "      <th>808</th>\n",
              "      <td>0.341464</td>\n",
              "      <td>0.212943</td>\n",
              "      <td>0.504274</td>\n",
              "      <td>0.2500</td>\n",
              "      <td>0.558824</td>\n",
              "      <td>0.000100</td>\n",
              "    </tr>\n",
              "    <tr>\n",
              "      <th>761</th>\n",
              "      <td>0.268909</td>\n",
              "      <td>0.328746</td>\n",
              "      <td>0.452991</td>\n",
              "      <td>0.4500</td>\n",
              "      <td>0.460784</td>\n",
              "      <td>0.000100</td>\n",
              "    </tr>\n",
              "    <tr>\n",
              "      <th>674</th>\n",
              "      <td>0.305550</td>\n",
              "      <td>0.268130</td>\n",
              "      <td>0.230769</td>\n",
              "      <td>0.5375</td>\n",
              "      <td>0.647059</td>\n",
              "      <td>0.000050</td>\n",
              "    </tr>\n",
              "    <tr>\n",
              "      <th>591</th>\n",
              "      <td>0.504759</td>\n",
              "      <td>0.375394</td>\n",
              "      <td>0.213675</td>\n",
              "      <td>0.4250</td>\n",
              "      <td>0.754902</td>\n",
              "      <td>0.000050</td>\n",
              "    </tr>\n",
              "    <tr>\n",
              "      <th>874</th>\n",
              "      <td>0.257161</td>\n",
              "      <td>0.390469</td>\n",
              "      <td>0.205128</td>\n",
              "      <td>0.4000</td>\n",
              "      <td>0.784314</td>\n",
              "      <td>0.000050</td>\n",
              "    </tr>\n",
              "    <tr>\n",
              "      <th>237</th>\n",
              "      <td>0.197263</td>\n",
              "      <td>0.186670</td>\n",
              "      <td>0.222222</td>\n",
              "      <td>0.2500</td>\n",
              "      <td>0.882353</td>\n",
              "      <td>0.000000</td>\n",
              "    </tr>\n",
              "    <tr>\n",
              "      <th>420</th>\n",
              "      <td>0.393966</td>\n",
              "      <td>0.330058</td>\n",
              "      <td>0.299145</td>\n",
              "      <td>0.8375</td>\n",
              "      <td>0.333333</td>\n",
              "      <td>0.006321</td>\n",
              "    </tr>\n",
              "    <tr>\n",
              "      <th>718</th>\n",
              "      <td>0.217446</td>\n",
              "      <td>0.307450</td>\n",
              "      <td>0.487179</td>\n",
              "      <td>0.4000</td>\n",
              "      <td>0.460784</td>\n",
              "      <td>0.000100</td>\n",
              "    </tr>\n",
              "    <tr>\n",
              "      <th>2</th>\n",
              "      <td>0.405037</td>\n",
              "      <td>0.424327</td>\n",
              "      <td>0.324786</td>\n",
              "      <td>0.6625</td>\n",
              "      <td>0.441176</td>\n",
              "      <td>0.000301</td>\n",
              "    </tr>\n",
              "    <tr>\n",
              "      <th>6</th>\n",
              "      <td>0.346529</td>\n",
              "      <td>0.379875</td>\n",
              "      <td>0.333333</td>\n",
              "      <td>0.6000</td>\n",
              "      <td>0.480392</td>\n",
              "      <td>0.000201</td>\n",
              "    </tr>\n",
              "    <tr>\n",
              "      <th>1019</th>\n",
              "      <td>0.310452</td>\n",
              "      <td>0.381861</td>\n",
              "      <td>0.350427</td>\n",
              "      <td>0.4750</td>\n",
              "      <td>0.558824</td>\n",
              "      <td>0.000151</td>\n",
              "    </tr>\n",
              "    <tr>\n",
              "      <th>922</th>\n",
              "      <td>0.331532</td>\n",
              "      <td>0.209427</td>\n",
              "      <td>0.282051</td>\n",
              "      <td>0.6125</td>\n",
              "      <td>0.529412</td>\n",
              "      <td>0.000201</td>\n",
              "    </tr>\n",
              "    <tr>\n",
              "      <th>1051</th>\n",
              "      <td>0.344987</td>\n",
              "      <td>0.170189</td>\n",
              "      <td>0.282051</td>\n",
              "      <td>0.4000</td>\n",
              "      <td>0.696078</td>\n",
              "      <td>0.000050</td>\n",
              "    </tr>\n",
              "    <tr>\n",
              "      <th>215</th>\n",
              "      <td>0.395785</td>\n",
              "      <td>0.336208</td>\n",
              "      <td>0.376068</td>\n",
              "      <td>0.5500</td>\n",
              "      <td>0.470588</td>\n",
              "      <td>0.000201</td>\n",
              "    </tr>\n",
              "    <tr>\n",
              "      <th>286</th>\n",
              "      <td>0.543459</td>\n",
              "      <td>0.378215</td>\n",
              "      <td>0.410256</td>\n",
              "      <td>0.5625</td>\n",
              "      <td>0.421569</td>\n",
              "      <td>0.000201</td>\n",
              "    </tr>\n",
              "    <tr>\n",
              "      <th>923</th>\n",
              "      <td>0.479325</td>\n",
              "      <td>0.304892</td>\n",
              "      <td>0.538462</td>\n",
              "      <td>0.6000</td>\n",
              "      <td>0.245098</td>\n",
              "      <td>0.001656</td>\n",
              "    </tr>\n",
              "    <tr>\n",
              "      <th>817</th>\n",
              "      <td>0.501452</td>\n",
              "      <td>0.252051</td>\n",
              "      <td>0.555556</td>\n",
              "      <td>0.3000</td>\n",
              "      <td>0.460784</td>\n",
              "      <td>0.000151</td>\n",
              "    </tr>\n",
              "    <tr>\n",
              "      <th>1091</th>\n",
              "      <td>0.194915</td>\n",
              "      <td>0.213395</td>\n",
              "      <td>0.769231</td>\n",
              "      <td>0.2625</td>\n",
              "      <td>0.245098</td>\n",
              "      <td>0.000251</td>\n",
              "    </tr>\n",
              "    <tr>\n",
              "      <th>277</th>\n",
              "      <td>0.333777</td>\n",
              "      <td>0.260619</td>\n",
              "      <td>0.358974</td>\n",
              "      <td>0.4375</td>\n",
              "      <td>0.588235</td>\n",
              "      <td>0.000050</td>\n",
              "    </tr>\n",
              "    <tr>\n",
              "      <th>1104</th>\n",
              "      <td>0.054543</td>\n",
              "      <td>0.202019</td>\n",
              "      <td>0.435897</td>\n",
              "      <td>0.2875</td>\n",
              "      <td>0.598039</td>\n",
              "      <td>0.000050</td>\n",
              "    </tr>\n",
              "  </tbody>\n",
              "</table>\n",
              "</div>"
            ],
            "text/plain": [
              "      Subjectivity  Polarity   Neutral  Positive  Negative  Compound\n",
              "12        0.558682  0.309243  0.504274    0.6625  0.235294  0.003863\n",
              "381       0.364782  0.280786  0.162393    0.7500  0.558824  0.000151\n",
              "717       0.328143  0.281825  0.495726    0.3000  0.529412  0.000050\n",
              "497       0.216516  0.281077  0.264957    0.4000  0.715686  0.000050\n",
              "967       0.590373  0.526941  0.598291    0.3375  0.382353  0.000151\n",
              "538       0.454200  0.285979  0.401709    0.4125  0.549020  0.000050\n",
              "724       0.430556  0.248813  0.410256    0.3500  0.578431  0.000050\n",
              "984       0.295002  0.293188  0.452991    0.4000  0.500000  0.000100\n",
              "787       0.157880  0.364884  0.393162    0.3875  0.588235  0.000100\n",
              "184       0.300009  0.336804  0.444444    0.5875  0.362745  0.000251\n",
              "722       0.534140  0.506000  0.589744    0.5875  0.196078  0.001756\n",
              "1002      0.211618  0.158242  0.401709    0.1875  0.715686  0.000050\n",
              "872       0.063840  0.219895  0.376068    0.3250  0.656863  0.000050\n",
              "1079      0.205825  0.150644  0.769231    0.3000  0.215686  0.000401\n",
              "666       0.306661  0.121929  0.461538    0.2375  0.617647  0.000050\n",
              "892       0.238671  0.149051  0.470085    0.3375  0.529412  0.000100\n",
              "344       0.282805  0.259494  0.358974    0.4250  0.588235  0.000050\n",
              "1059      0.168535  0.160442  0.410256    0.2375  0.676471  0.000050\n",
              "873       0.336229  0.344868  0.341880    0.3125  0.696078  0.000050\n",
              "567       0.132074  0.298016  0.153846    0.5500  0.725490  0.000050\n",
              "808       0.341464  0.212943  0.504274    0.2500  0.558824  0.000100\n",
              "761       0.268909  0.328746  0.452991    0.4500  0.460784  0.000100\n",
              "674       0.305550  0.268130  0.230769    0.5375  0.647059  0.000050\n",
              "591       0.504759  0.375394  0.213675    0.4250  0.754902  0.000050\n",
              "874       0.257161  0.390469  0.205128    0.4000  0.784314  0.000050\n",
              "237       0.197263  0.186670  0.222222    0.2500  0.882353  0.000000\n",
              "420       0.393966  0.330058  0.299145    0.8375  0.333333  0.006321\n",
              "718       0.217446  0.307450  0.487179    0.4000  0.460784  0.000100\n",
              "2         0.405037  0.424327  0.324786    0.6625  0.441176  0.000301\n",
              "6         0.346529  0.379875  0.333333    0.6000  0.480392  0.000201\n",
              "1019      0.310452  0.381861  0.350427    0.4750  0.558824  0.000151\n",
              "922       0.331532  0.209427  0.282051    0.6125  0.529412  0.000201\n",
              "1051      0.344987  0.170189  0.282051    0.4000  0.696078  0.000050\n",
              "215       0.395785  0.336208  0.376068    0.5500  0.470588  0.000201\n",
              "286       0.543459  0.378215  0.410256    0.5625  0.421569  0.000201\n",
              "923       0.479325  0.304892  0.538462    0.6000  0.245098  0.001656\n",
              "817       0.501452  0.252051  0.555556    0.3000  0.460784  0.000151\n",
              "1091      0.194915  0.213395  0.769231    0.2625  0.245098  0.000251\n",
              "277       0.333777  0.260619  0.358974    0.4375  0.588235  0.000050\n",
              "1104      0.054543  0.202019  0.435897    0.2875  0.598039  0.000050"
            ]
          },
          "metadata": {
            "tags": []
          },
          "execution_count": 30
        }
      ]
    },
    {
      "cell_type": "markdown",
      "metadata": {
        "id": "gS6ANBTIxEB5"
      },
      "source": [
        "### **Random Forest Regressor**"
      ]
    },
    {
      "cell_type": "code",
      "metadata": {
        "id": "2edeKX5ymlzr"
      },
      "source": [
        "forest = RandomForestRegressor()\n",
        "forest.fit(X_train, y_train)\n",
        "pred = forest.predict(X_test)"
      ],
      "execution_count": 31,
      "outputs": []
    },
    {
      "cell_type": "code",
      "metadata": {
        "id": "N5rKltzUnJ-F"
      },
      "source": [
        "from sklearn.metrics import mean_squared_error"
      ],
      "execution_count": 33,
      "outputs": []
    },
    {
      "cell_type": "code",
      "metadata": {
        "id": "j-lLOQ6Vm2dM",
        "outputId": "114bcc26-e50f-4775-a06e-ece5f7694f96",
        "colab": {
          "base_uri": "https://localhost:8080/"
        }
      },
      "source": [
        "print(pred[:10])\n",
        "print(y_test[:10])\n",
        "print(mean_squared_error(pred , y_test))"
      ],
      "execution_count": 34,
      "outputs": [
        {
          "output_type": "stream",
          "text": [
            "[0.83524812 0.61430105 0.37140829 0.50374513 0.62821154 0.14288293\n",
            " 0.38061228 0.101252   0.72608299 0.78391954]\n",
            "784     0.707335\n",
            "900     0.765804\n",
            "413     0.385388\n",
            "467     0.446796\n",
            "746     0.660148\n",
            "109     0.059548\n",
            "522     0.523859\n",
            "56      0.043661\n",
            "1014    0.899547\n",
            "964     0.839530\n",
            "Name: Close, dtype: float64\n",
            "0.05873691349348416\n"
          ],
          "name": "stdout"
        }
      ]
    },
    {
      "cell_type": "markdown",
      "metadata": {
        "id": "BxNXSlXmxKqx"
      },
      "source": [
        "### **ADABoost Regressor**"
      ]
    },
    {
      "cell_type": "code",
      "metadata": {
        "id": "SqvQkMhJm8z9",
        "outputId": "3c957f2d-48c6-47c1-b4d5-fc283f7097df",
        "colab": {
          "base_uri": "https://localhost:8080/"
        }
      },
      "source": [
        "adb = AdaBoostRegressor()\n",
        "adb.fit(X_train, y_train)\n",
        "predict = adb.predict(X_test)\n",
        "print(mean_squared_error(predict, y_test))"
      ],
      "execution_count": 35,
      "outputs": [
        {
          "output_type": "stream",
          "text": [
            "0.06252225272626166\n"
          ],
          "name": "stdout"
        }
      ]
    },
    {
      "cell_type": "code",
      "metadata": {
        "id": "uSipYxNBngBW"
      },
      "source": [
        "from sklearn.tree import DecisionTreeRegressor"
      ],
      "execution_count": 36,
      "outputs": []
    },
    {
      "cell_type": "markdown",
      "metadata": {
        "id": "ZN_sZWYsxSTf"
      },
      "source": [
        "### **Decision Tree Regressor**"
      ]
    },
    {
      "cell_type": "code",
      "metadata": {
        "id": "44QujnLZnlha"
      },
      "source": [
        "tree = DecisionTreeRegressor()\n",
        "tree.fit(X_train, y_train)\n",
        "predictions = tree.predict(X_test)"
      ],
      "execution_count": 37,
      "outputs": []
    },
    {
      "cell_type": "code",
      "metadata": {
        "id": "Fkpodf_rnySV",
        "outputId": "a7507830-f10f-47de-b071-8d1b4e10c1c6",
        "colab": {
          "base_uri": "https://localhost:8080/"
        }
      },
      "source": [
        "print(predictions[:10])\n",
        "print(y_test[:10])\n",
        "print(mean_squared_error(predictions, y_test))"
      ],
      "execution_count": 38,
      "outputs": [
        {
          "output_type": "stream",
          "text": [
            "[0.91866932 0.13503662 0.53638055 0.54189975 0.08567603 0.02227183\n",
            " 0.08211924 0.09570894 0.92182042 0.81836865]\n",
            "784     0.707335\n",
            "900     0.765804\n",
            "413     0.385388\n",
            "467     0.446796\n",
            "746     0.660148\n",
            "109     0.059548\n",
            "522     0.523859\n",
            "56      0.043661\n",
            "1014    0.899547\n",
            "964     0.839530\n",
            "Name: Close, dtype: float64\n",
            "0.12360482456908906\n"
          ],
          "name": "stdout"
        }
      ]
    },
    {
      "cell_type": "markdown",
      "metadata": {
        "id": "eiLPLHfGxbCg"
      },
      "source": [
        "### **Light Gradient Boosting Machine**"
      ]
    },
    {
      "cell_type": "code",
      "metadata": {
        "id": "RwSHqlNGn77D",
        "outputId": "df72c8b2-09d5-4091-a659-8c1abee07ed3",
        "colab": {
          "base_uri": "https://localhost:8080/"
        }
      },
      "source": [
        "lgb = lightgbm.LGBMRegressor()\n",
        "lgb.fit(X_train, y_train)"
      ],
      "execution_count": 39,
      "outputs": [
        {
          "output_type": "execute_result",
          "data": {
            "text/plain": [
              "LGBMRegressor(boosting_type='gbdt', class_weight=None, colsample_bytree=1.0,\n",
              "              importance_type='split', learning_rate=0.1, max_depth=-1,\n",
              "              min_child_samples=20, min_child_weight=0.001, min_split_gain=0.0,\n",
              "              n_estimators=100, n_jobs=-1, num_leaves=31, objective=None,\n",
              "              random_state=None, reg_alpha=0.0, reg_lambda=0.0, silent=True,\n",
              "              subsample=1.0, subsample_for_bin=200000, subsample_freq=0)"
            ]
          },
          "metadata": {
            "tags": []
          },
          "execution_count": 39
        }
      ]
    },
    {
      "cell_type": "code",
      "metadata": {
        "id": "lB32MqJhoBzm",
        "outputId": "f950a80b-6994-4bd7-9e69-cb3f1b641a81",
        "colab": {
          "base_uri": "https://localhost:8080/"
        }
      },
      "source": [
        "predictions = lgb.predict(X_test)\n",
        "print(mean_squared_error(predictions,y_test))"
      ],
      "execution_count": 40,
      "outputs": [
        {
          "output_type": "stream",
          "text": [
            "0.06171522600163958\n"
          ],
          "name": "stdout"
        }
      ]
    },
    {
      "cell_type": "markdown",
      "metadata": {
        "id": "1ldb5gEvxm5T"
      },
      "source": [
        "### **Extreme Gradient Boosting**"
      ]
    },
    {
      "cell_type": "code",
      "metadata": {
        "id": "BunauClHoFWn",
        "outputId": "f69c7665-9fb6-4253-b9f0-a21effb0b2df",
        "colab": {
          "base_uri": "https://localhost:8080/"
        }
      },
      "source": [
        "xgb = xgboost.XGBRegressor()\n",
        "xgb.fit(X_train, y_train)"
      ],
      "execution_count": 41,
      "outputs": [
        {
          "output_type": "stream",
          "text": [
            "[09:54:30] WARNING: /workspace/src/objective/regression_obj.cu:152: reg:linear is now deprecated in favor of reg:squarederror.\n"
          ],
          "name": "stdout"
        },
        {
          "output_type": "execute_result",
          "data": {
            "text/plain": [
              "XGBRegressor(base_score=0.5, booster='gbtree', colsample_bylevel=1,\n",
              "             colsample_bynode=1, colsample_bytree=1, gamma=0,\n",
              "             importance_type='gain', learning_rate=0.1, max_delta_step=0,\n",
              "             max_depth=3, min_child_weight=1, missing=None, n_estimators=100,\n",
              "             n_jobs=1, nthread=None, objective='reg:linear', random_state=0,\n",
              "             reg_alpha=0, reg_lambda=1, scale_pos_weight=1, seed=None,\n",
              "             silent=None, subsample=1, verbosity=1)"
            ]
          },
          "metadata": {
            "tags": []
          },
          "execution_count": 41
        }
      ]
    },
    {
      "cell_type": "code",
      "metadata": {
        "id": "cNqJ60r3oJEN",
        "outputId": "bd1c7206-3ab9-4dcd-e50c-33da4a87c26d",
        "colab": {
          "base_uri": "https://localhost:8080/"
        }
      },
      "source": [
        "predictions = xgb.predict(X_test)\n",
        "print(mean_squared_error(predictions,y_test))"
      ],
      "execution_count": 42,
      "outputs": [
        {
          "output_type": "stream",
          "text": [
            "0.059354692475989665\n"
          ],
          "name": "stdout"
        }
      ]
    },
    {
      "cell_type": "markdown",
      "metadata": {
        "id": "li-fqi9Lx9qd"
      },
      "source": [
        "### **Linear Regression**"
      ]
    },
    {
      "cell_type": "code",
      "metadata": {
        "id": "hbhPeWA_xqfb",
        "outputId": "30debe92-5817-48eb-9895-3c9673b6b450",
        "colab": {
          "base_uri": "https://localhost:8080/"
        }
      },
      "source": [
        "from sklearn.linear_model import LinearRegression\n",
        "lin = LinearRegression()\n",
        "lin.fit(X_train, y_train)\n",
        "pred = lin.predict(X_test)\n",
        "print(mean_squared_error(pred, y_test))"
      ],
      "execution_count": 44,
      "outputs": [
        {
          "output_type": "stream",
          "text": [
            "0.06417639677685077\n"
          ],
          "name": "stdout"
        }
      ]
    },
    {
      "cell_type": "markdown",
      "metadata": {
        "id": "TqrwhQ5EwC-a"
      },
      "source": [
        "**Random Forest Regressor seems to work the best, among all the other regressors.** \\\n",
        "Even though XGBoost is known for faster and better model performance. "
      ]
    }
  ]
}